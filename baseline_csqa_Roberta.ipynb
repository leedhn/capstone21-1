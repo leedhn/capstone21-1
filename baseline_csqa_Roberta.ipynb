{
  "nbformat": 4,
  "nbformat_minor": 0,
  "metadata": {
    "colab": {
      "name": "baseline_csqa_Roberta.ipynb",
      "provenance": [],
      "collapsed_sections": [
        "R3hUMoExTQbJ"
      ],
      "machine_shape": "hm",
      "include_colab_link": true
    },
    "kernelspec": {
      "name": "python3",
      "display_name": "Python 3"
    },
    "language_info": {
      "name": "python"
    },
    "accelerator": "GPU"
  },
  "cells": [
    {
      "cell_type": "markdown",
      "metadata": {
        "id": "view-in-github",
        "colab_type": "text"
      },
      "source": [
        "<a href=\"https://colab.research.google.com/github/leedhn/capstone21-1/blob/main/baseline_csqa_Roberta.ipynb\" target=\"_parent\"><img src=\"https://colab.research.google.com/assets/colab-badge.svg\" alt=\"Open In Colab\"/></a>"
      ]
    },
    {
      "cell_type": "markdown",
      "metadata": {
        "id": "F5yj8HKoYT8w"
      },
      "source": [
        "pretrained path generator 다운받아서 ../commonsense-qa/saved_models/pretrain_generator/model.ckpt로 업로드함. \n",
        "\n",
        "../commonsense-qa/data/ 에 small_csqa 폴더 업로드함. (이미 preprosess가 다 되어있는 듯 함. )"
      ]
    },
    {
      "cell_type": "markdown",
      "metadata": {
        "id": "szhJvgPiDzys"
      },
      "source": [
        "드라이브 마운트"
      ]
    },
    {
      "cell_type": "code",
      "metadata": {
        "id": "ABO7G4_oDsOG",
        "colab": {
          "base_uri": "https://localhost:8080/"
        },
        "outputId": "71e5bfa9-9b76-4058-8495-02c2d4116292"
      },
      "source": [
        "from google.colab import drive\n",
        "drive.mount('/content/drive')\n",
        "\n",
        "%cd /content/drive/MyDrive/21-1_SoJong/20210401/"
      ],
      "execution_count": null,
      "outputs": [
        {
          "output_type": "stream",
          "text": [
            "Mounted at /content/drive\n",
            "/content/drive/.shortcut-targets-by-id/1liN_kVfSs1TfvwceZiGrLnCj9r84a8CQ/21-1_SoJong/20210401\n"
          ],
          "name": "stdout"
        }
      ]
    },
    {
      "cell_type": "markdown",
      "metadata": {
        "id": "EWr9B07WD40G"
      },
      "source": [
        "깃헙 클론"
      ]
    },
    {
      "cell_type": "code",
      "metadata": {
        "id": "MkcQv2-MC3A-",
        "colab": {
          "base_uri": "https://localhost:8080/"
        },
        "outputId": "66ec345a-a01d-47e1-8a9d-10c112464ec1"
      },
      "source": [
        "\n",
        "#!git clone https://github.com/min942773/path_generator.git"
      ],
      "execution_count": null,
      "outputs": [
        {
          "output_type": "stream",
          "text": [
            "Cloning into 'path_generator'...\n",
            "remote: Enumerating objects: 159, done.\u001b[K\n",
            "remote: Counting objects: 100% (159/159), done.\u001b[K\n",
            "remote: Compressing objects: 100% (121/121), done.\u001b[K\n",
            "remote: Total 159 (delta 37), reused 151 (delta 32), pack-reused 0\u001b[K\n",
            "Receiving objects: 100% (159/159), 17.00 MiB | 18.80 MiB/s, done.\n",
            "Resolving deltas: 100% (37/37), done.\n"
          ],
          "name": "stdout"
        }
      ]
    },
    {
      "cell_type": "markdown",
      "metadata": {
        "id": "mQrp7c2MD7MZ"
      },
      "source": [
        "환경 셋팅"
      ]
    },
    {
      "cell_type": "code",
      "metadata": {
        "colab": {
          "base_uri": "https://localhost:8080/"
        },
        "id": "B7UC6o9iDLQb",
        "outputId": "b92485f6-459d-4327-fed2-6bcf0280747a"
      },
      "source": [
        "%cd ./path_generator/commonsense-qa\n",
        "#!bash scripts/download.sh"
      ],
      "execution_count": null,
      "outputs": [
        {
          "output_type": "stream",
          "text": [
            "/content/drive/.shortcut-targets-by-id/1liN_kVfSs1TfvwceZiGrLnCj9r84a8CQ/21-1_SoJong/20210401/path_generator/commonsense-qa\n"
          ],
          "name": "stdout"
        }
      ]
    },
    {
      "cell_type": "markdown",
      "metadata": {
        "id": "5jjZrO9WFZmf"
      },
      "source": [
        "Preprocess"
      ]
    },
    {
      "cell_type": "code",
      "metadata": {
        "colab": {
          "base_uri": "https://localhost:8080/"
        },
        "id": "3_cUYsFaG8Il",
        "outputId": "64006c9a-c848-4154-caf5-065735aca7a5"
      },
      "source": [
        "#!pip install transformers "
      ],
      "execution_count": null,
      "outputs": [
        {
          "output_type": "stream",
          "text": [
            "Collecting transformers\n",
            "\u001b[?25l  Downloading https://files.pythonhosted.org/packages/81/91/61d69d58a1af1bd81d9ca9d62c90a6de3ab80d77f27c5df65d9a2c1f5626/transformers-4.5.0-py3-none-any.whl (2.1MB)\n",
            "\r\u001b[K     |▏                               | 10kB 24.4MB/s eta 0:00:01\r\u001b[K     |▎                               | 20kB 31.6MB/s eta 0:00:01\r\u001b[K     |▌                               | 30kB 24.5MB/s eta 0:00:01\r\u001b[K     |▋                               | 40kB 27.8MB/s eta 0:00:01\r\u001b[K     |▊                               | 51kB 27.7MB/s eta 0:00:01\r\u001b[K     |█                               | 61kB 30.1MB/s eta 0:00:01\r\u001b[K     |█                               | 71kB 20.7MB/s eta 0:00:01\r\u001b[K     |█▏                              | 81kB 21.9MB/s eta 0:00:01\r\u001b[K     |█▍                              | 92kB 20.1MB/s eta 0:00:01\r\u001b[K     |█▌                              | 102kB 21.4MB/s eta 0:00:01\r\u001b[K     |█▊                              | 112kB 21.4MB/s eta 0:00:01\r\u001b[K     |█▉                              | 122kB 21.4MB/s eta 0:00:01\r\u001b[K     |██                              | 133kB 21.4MB/s eta 0:00:01\r\u001b[K     |██▏                             | 143kB 21.4MB/s eta 0:00:01\r\u001b[K     |██▎                             | 153kB 21.4MB/s eta 0:00:01\r\u001b[K     |██▍                             | 163kB 21.4MB/s eta 0:00:01\r\u001b[K     |██▋                             | 174kB 21.4MB/s eta 0:00:01\r\u001b[K     |██▊                             | 184kB 21.4MB/s eta 0:00:01\r\u001b[K     |███                             | 194kB 21.4MB/s eta 0:00:01\r\u001b[K     |███                             | 204kB 21.4MB/s eta 0:00:01\r\u001b[K     |███▏                            | 215kB 21.4MB/s eta 0:00:01\r\u001b[K     |███▍                            | 225kB 21.4MB/s eta 0:00:01\r\u001b[K     |███▌                            | 235kB 21.4MB/s eta 0:00:01\r\u001b[K     |███▋                            | 245kB 21.4MB/s eta 0:00:01\r\u001b[K     |███▉                            | 256kB 21.4MB/s eta 0:00:01\r\u001b[K     |████                            | 266kB 21.4MB/s eta 0:00:01\r\u001b[K     |████▏                           | 276kB 21.4MB/s eta 0:00:01\r\u001b[K     |████▎                           | 286kB 21.4MB/s eta 0:00:01\r\u001b[K     |████▍                           | 296kB 21.4MB/s eta 0:00:01\r\u001b[K     |████▋                           | 307kB 21.4MB/s eta 0:00:01\r\u001b[K     |████▊                           | 317kB 21.4MB/s eta 0:00:01\r\u001b[K     |████▉                           | 327kB 21.4MB/s eta 0:00:01\r\u001b[K     |█████                           | 337kB 21.4MB/s eta 0:00:01\r\u001b[K     |█████▏                          | 348kB 21.4MB/s eta 0:00:01\r\u001b[K     |█████▍                          | 358kB 21.4MB/s eta 0:00:01\r\u001b[K     |█████▌                          | 368kB 21.4MB/s eta 0:00:01\r\u001b[K     |█████▋                          | 378kB 21.4MB/s eta 0:00:01\r\u001b[K     |█████▉                          | 389kB 21.4MB/s eta 0:00:01\r\u001b[K     |██████                          | 399kB 21.4MB/s eta 0:00:01\r\u001b[K     |██████                          | 409kB 21.4MB/s eta 0:00:01\r\u001b[K     |██████▎                         | 419kB 21.4MB/s eta 0:00:01\r\u001b[K     |██████▍                         | 430kB 21.4MB/s eta 0:00:01\r\u001b[K     |██████▋                         | 440kB 21.4MB/s eta 0:00:01\r\u001b[K     |██████▊                         | 450kB 21.4MB/s eta 0:00:01\r\u001b[K     |██████▉                         | 460kB 21.4MB/s eta 0:00:01\r\u001b[K     |███████                         | 471kB 21.4MB/s eta 0:00:01\r\u001b[K     |███████▏                        | 481kB 21.4MB/s eta 0:00:01\r\u001b[K     |███████▎                        | 491kB 21.4MB/s eta 0:00:01\r\u001b[K     |███████▌                        | 501kB 21.4MB/s eta 0:00:01\r\u001b[K     |███████▋                        | 512kB 21.4MB/s eta 0:00:01\r\u001b[K     |███████▉                        | 522kB 21.4MB/s eta 0:00:01\r\u001b[K     |████████                        | 532kB 21.4MB/s eta 0:00:01\r\u001b[K     |████████                        | 542kB 21.4MB/s eta 0:00:01\r\u001b[K     |████████▎                       | 552kB 21.4MB/s eta 0:00:01\r\u001b[K     |████████▍                       | 563kB 21.4MB/s eta 0:00:01\r\u001b[K     |████████▌                       | 573kB 21.4MB/s eta 0:00:01\r\u001b[K     |████████▊                       | 583kB 21.4MB/s eta 0:00:01\r\u001b[K     |████████▉                       | 593kB 21.4MB/s eta 0:00:01\r\u001b[K     |█████████                       | 604kB 21.4MB/s eta 0:00:01\r\u001b[K     |█████████▏                      | 614kB 21.4MB/s eta 0:00:01\r\u001b[K     |█████████▎                      | 624kB 21.4MB/s eta 0:00:01\r\u001b[K     |█████████▌                      | 634kB 21.4MB/s eta 0:00:01\r\u001b[K     |█████████▋                      | 645kB 21.4MB/s eta 0:00:01\r\u001b[K     |█████████▊                      | 655kB 21.4MB/s eta 0:00:01\r\u001b[K     |██████████                      | 665kB 21.4MB/s eta 0:00:01\r\u001b[K     |██████████                      | 675kB 21.4MB/s eta 0:00:01\r\u001b[K     |██████████▎                     | 686kB 21.4MB/s eta 0:00:01\r\u001b[K     |██████████▍                     | 696kB 21.4MB/s eta 0:00:01\r\u001b[K     |██████████▌                     | 706kB 21.4MB/s eta 0:00:01\r\u001b[K     |██████████▊                     | 716kB 21.4MB/s eta 0:00:01\r\u001b[K     |██████████▉                     | 727kB 21.4MB/s eta 0:00:01\r\u001b[K     |███████████                     | 737kB 21.4MB/s eta 0:00:01\r\u001b[K     |███████████▏                    | 747kB 21.4MB/s eta 0:00:01\r\u001b[K     |███████████▎                    | 757kB 21.4MB/s eta 0:00:01\r\u001b[K     |███████████▌                    | 768kB 21.4MB/s eta 0:00:01\r\u001b[K     |███████████▋                    | 778kB 21.4MB/s eta 0:00:01\r\u001b[K     |███████████▊                    | 788kB 21.4MB/s eta 0:00:01\r\u001b[K     |████████████                    | 798kB 21.4MB/s eta 0:00:01\r\u001b[K     |████████████                    | 808kB 21.4MB/s eta 0:00:01\r\u001b[K     |████████████▏                   | 819kB 21.4MB/s eta 0:00:01\r\u001b[K     |████████████▍                   | 829kB 21.4MB/s eta 0:00:01\r\u001b[K     |████████████▌                   | 839kB 21.4MB/s eta 0:00:01\r\u001b[K     |████████████▊                   | 849kB 21.4MB/s eta 0:00:01\r\u001b[K     |████████████▉                   | 860kB 21.4MB/s eta 0:00:01\r\u001b[K     |█████████████                   | 870kB 21.4MB/s eta 0:00:01\r\u001b[K     |█████████████▏                  | 880kB 21.4MB/s eta 0:00:01\r\u001b[K     |█████████████▎                  | 890kB 21.4MB/s eta 0:00:01\r\u001b[K     |█████████████▍                  | 901kB 21.4MB/s eta 0:00:01\r\u001b[K     |█████████████▋                  | 911kB 21.4MB/s eta 0:00:01\r\u001b[K     |█████████████▊                  | 921kB 21.4MB/s eta 0:00:01\r\u001b[K     |██████████████                  | 931kB 21.4MB/s eta 0:00:01\r\u001b[K     |██████████████                  | 942kB 21.4MB/s eta 0:00:01\r\u001b[K     |██████████████▏                 | 952kB 21.4MB/s eta 0:00:01\r\u001b[K     |██████████████▍                 | 962kB 21.4MB/s eta 0:00:01\r\u001b[K     |██████████████▌                 | 972kB 21.4MB/s eta 0:00:01\r\u001b[K     |██████████████▋                 | 983kB 21.4MB/s eta 0:00:01\r\u001b[K     |██████████████▉                 | 993kB 21.4MB/s eta 0:00:01\r\u001b[K     |███████████████                 | 1.0MB 21.4MB/s eta 0:00:01\r\u001b[K     |███████████████▏                | 1.0MB 21.4MB/s eta 0:00:01\r\u001b[K     |███████████████▎                | 1.0MB 21.4MB/s eta 0:00:01\r\u001b[K     |███████████████▍                | 1.0MB 21.4MB/s eta 0:00:01\r\u001b[K     |███████████████▋                | 1.0MB 21.4MB/s eta 0:00:01\r\u001b[K     |███████████████▊                | 1.1MB 21.4MB/s eta 0:00:01\r\u001b[K     |███████████████▉                | 1.1MB 21.4MB/s eta 0:00:01\r\u001b[K     |████████████████                | 1.1MB 21.4MB/s eta 0:00:01\r\u001b[K     |████████████████▏               | 1.1MB 21.4MB/s eta 0:00:01\r\u001b[K     |████████████████▍               | 1.1MB 21.4MB/s eta 0:00:01\r\u001b[K     |████████████████▌               | 1.1MB 21.4MB/s eta 0:00:01\r\u001b[K     |████████████████▋               | 1.1MB 21.4MB/s eta 0:00:01\r\u001b[K     |████████████████▉               | 1.1MB 21.4MB/s eta 0:00:01\r\u001b[K     |█████████████████               | 1.1MB 21.4MB/s eta 0:00:01\r\u001b[K     |█████████████████               | 1.1MB 21.4MB/s eta 0:00:01\r\u001b[K     |█████████████████▎              | 1.2MB 21.4MB/s eta 0:00:01\r\u001b[K     |█████████████████▍              | 1.2MB 21.4MB/s eta 0:00:01\r\u001b[K     |█████████████████▌              | 1.2MB 21.4MB/s eta 0:00:01\r\u001b[K     |█████████████████▊              | 1.2MB 21.4MB/s eta 0:00:01\r\u001b[K     |█████████████████▉              | 1.2MB 21.4MB/s eta 0:00:01\r\u001b[K     |██████████████████              | 1.2MB 21.4MB/s eta 0:00:01\r\u001b[K     |██████████████████▏             | 1.2MB 21.4MB/s eta 0:00:01\r\u001b[K     |██████████████████▎             | 1.2MB 21.4MB/s eta 0:00:01\r\u001b[K     |██████████████████▌             | 1.2MB 21.4MB/s eta 0:00:01\r\u001b[K     |██████████████████▋             | 1.2MB 21.4MB/s eta 0:00:01\r\u001b[K     |██████████████████▊             | 1.3MB 21.4MB/s eta 0:00:01\r\u001b[K     |███████████████████             | 1.3MB 21.4MB/s eta 0:00:01\r\u001b[K     |███████████████████             | 1.3MB 21.4MB/s eta 0:00:01\r\u001b[K     |███████████████████▎            | 1.3MB 21.4MB/s eta 0:00:01\r\u001b[K     |███████████████████▍            | 1.3MB 21.4MB/s eta 0:00:01\r\u001b[K     |███████████████████▌            | 1.3MB 21.4MB/s eta 0:00:01\r\u001b[K     |███████████████████▊            | 1.3MB 21.4MB/s eta 0:00:01\r\u001b[K     |███████████████████▉            | 1.3MB 21.4MB/s eta 0:00:01\r\u001b[K     |████████████████████            | 1.3MB 21.4MB/s eta 0:00:01\r\u001b[K     |████████████████████▏           | 1.4MB 21.4MB/s eta 0:00:01\r\u001b[K     |████████████████████▎           | 1.4MB 21.4MB/s eta 0:00:01\r\u001b[K     |████████████████████▌           | 1.4MB 21.4MB/s eta 0:00:01\r\u001b[K     |████████████████████▋           | 1.4MB 21.4MB/s eta 0:00:01\r\u001b[K     |████████████████████▊           | 1.4MB 21.4MB/s eta 0:00:01\r\u001b[K     |█████████████████████           | 1.4MB 21.4MB/s eta 0:00:01\r\u001b[K     |█████████████████████           | 1.4MB 21.4MB/s eta 0:00:01\r\u001b[K     |█████████████████████▏          | 1.4MB 21.4MB/s eta 0:00:01\r\u001b[K     |█████████████████████▍          | 1.4MB 21.4MB/s eta 0:00:01\r\u001b[K     |█████████████████████▌          | 1.4MB 21.4MB/s eta 0:00:01\r\u001b[K     |█████████████████████▊          | 1.5MB 21.4MB/s eta 0:00:01\r\u001b[K     |█████████████████████▉          | 1.5MB 21.4MB/s eta 0:00:01\r\u001b[K     |██████████████████████          | 1.5MB 21.4MB/s eta 0:00:01\r\u001b[K     |██████████████████████▏         | 1.5MB 21.4MB/s eta 0:00:01\r\u001b[K     |██████████████████████▎         | 1.5MB 21.4MB/s eta 0:00:01\r\u001b[K     |██████████████████████▍         | 1.5MB 21.4MB/s eta 0:00:01\r\u001b[K     |██████████████████████▋         | 1.5MB 21.4MB/s eta 0:00:01\r\u001b[K     |██████████████████████▊         | 1.5MB 21.4MB/s eta 0:00:01\r\u001b[K     |███████████████████████         | 1.5MB 21.4MB/s eta 0:00:01\r\u001b[K     |███████████████████████         | 1.5MB 21.4MB/s eta 0:00:01\r\u001b[K     |███████████████████████▏        | 1.6MB 21.4MB/s eta 0:00:01\r\u001b[K     |███████████████████████▍        | 1.6MB 21.4MB/s eta 0:00:01\r\u001b[K     |███████████████████████▌        | 1.6MB 21.4MB/s eta 0:00:01\r\u001b[K     |███████████████████████▋        | 1.6MB 21.4MB/s eta 0:00:01\r\u001b[K     |███████████████████████▉        | 1.6MB 21.4MB/s eta 0:00:01\r\u001b[K     |████████████████████████        | 1.6MB 21.4MB/s eta 0:00:01\r\u001b[K     |████████████████████████▏       | 1.6MB 21.4MB/s eta 0:00:01\r\u001b[K     |████████████████████████▎       | 1.6MB 21.4MB/s eta 0:00:01\r\u001b[K     |████████████████████████▍       | 1.6MB 21.4MB/s eta 0:00:01\r\u001b[K     |████████████████████████▋       | 1.6MB 21.4MB/s eta 0:00:01\r\u001b[K     |████████████████████████▊       | 1.7MB 21.4MB/s eta 0:00:01\r\u001b[K     |████████████████████████▉       | 1.7MB 21.4MB/s eta 0:00:01\r\u001b[K     |█████████████████████████       | 1.7MB 21.4MB/s eta 0:00:01\r\u001b[K     |█████████████████████████▏      | 1.7MB 21.4MB/s eta 0:00:01\r\u001b[K     |█████████████████████████▍      | 1.7MB 21.4MB/s eta 0:00:01\r\u001b[K     |█████████████████████████▌      | 1.7MB 21.4MB/s eta 0:00:01\r\u001b[K     |█████████████████████████▋      | 1.7MB 21.4MB/s eta 0:00:01\r\u001b[K     |█████████████████████████▉      | 1.7MB 21.4MB/s eta 0:00:01\r\u001b[K     |██████████████████████████      | 1.7MB 21.4MB/s eta 0:00:01\r\u001b[K     |██████████████████████████      | 1.8MB 21.4MB/s eta 0:00:01\r\u001b[K     |██████████████████████████▎     | 1.8MB 21.4MB/s eta 0:00:01\r\u001b[K     |██████████████████████████▍     | 1.8MB 21.4MB/s eta 0:00:01\r\u001b[K     |██████████████████████████▋     | 1.8MB 21.4MB/s eta 0:00:01\r\u001b[K     |██████████████████████████▊     | 1.8MB 21.4MB/s eta 0:00:01\r\u001b[K     |██████████████████████████▉     | 1.8MB 21.4MB/s eta 0:00:01\r\u001b[K     |███████████████████████████     | 1.8MB 21.4MB/s eta 0:00:01\r\u001b[K     |███████████████████████████▏    | 1.8MB 21.4MB/s eta 0:00:01\r\u001b[K     |███████████████████████████▎    | 1.8MB 21.4MB/s eta 0:00:01\r\u001b[K     |███████████████████████████▌    | 1.8MB 21.4MB/s eta 0:00:01\r\u001b[K     |███████████████████████████▋    | 1.9MB 21.4MB/s eta 0:00:01\r\u001b[K     |███████████████████████████▉    | 1.9MB 21.4MB/s eta 0:00:01\r\u001b[K     |████████████████████████████    | 1.9MB 21.4MB/s eta 0:00:01\r\u001b[K     |████████████████████████████    | 1.9MB 21.4MB/s eta 0:00:01\r\u001b[K     |████████████████████████████▎   | 1.9MB 21.4MB/s eta 0:00:01\r\u001b[K     |████████████████████████████▍   | 1.9MB 21.4MB/s eta 0:00:01\r\u001b[K     |████████████████████████████▌   | 1.9MB 21.4MB/s eta 0:00:01\r\u001b[K     |████████████████████████████▊   | 1.9MB 21.4MB/s eta 0:00:01\r\u001b[K     |████████████████████████████▉   | 1.9MB 21.4MB/s eta 0:00:01\r\u001b[K     |█████████████████████████████   | 1.9MB 21.4MB/s eta 0:00:01\r\u001b[K     |█████████████████████████████▏  | 2.0MB 21.4MB/s eta 0:00:01\r\u001b[K     |█████████████████████████████▎  | 2.0MB 21.4MB/s eta 0:00:01\r\u001b[K     |█████████████████████████████▌  | 2.0MB 21.4MB/s eta 0:00:01\r\u001b[K     |█████████████████████████████▋  | 2.0MB 21.4MB/s eta 0:00:01\r\u001b[K     |█████████████████████████████▊  | 2.0MB 21.4MB/s eta 0:00:01\r\u001b[K     |██████████████████████████████  | 2.0MB 21.4MB/s eta 0:00:01\r\u001b[K     |██████████████████████████████  | 2.0MB 21.4MB/s eta 0:00:01\r\u001b[K     |██████████████████████████████▎ | 2.0MB 21.4MB/s eta 0:00:01\r\u001b[K     |██████████████████████████████▍ | 2.0MB 21.4MB/s eta 0:00:01\r\u001b[K     |██████████████████████████████▌ | 2.0MB 21.4MB/s eta 0:00:01\r\u001b[K     |██████████████████████████████▊ | 2.1MB 21.4MB/s eta 0:00:01\r\u001b[K     |██████████████████████████████▉ | 2.1MB 21.4MB/s eta 0:00:01\r\u001b[K     |███████████████████████████████ | 2.1MB 21.4MB/s eta 0:00:01\r\u001b[K     |███████████████████████████████▏| 2.1MB 21.4MB/s eta 0:00:01\r\u001b[K     |███████████████████████████████▎| 2.1MB 21.4MB/s eta 0:00:01\r\u001b[K     |███████████████████████████████▌| 2.1MB 21.4MB/s eta 0:00:01\r\u001b[K     |███████████████████████████████▋| 2.1MB 21.4MB/s eta 0:00:01\r\u001b[K     |███████████████████████████████▊| 2.1MB 21.4MB/s eta 0:00:01\r\u001b[K     |████████████████████████████████| 2.1MB 21.4MB/s eta 0:00:01\r\u001b[K     |████████████████████████████████| 2.2MB 21.4MB/s \n",
            "\u001b[?25hRequirement already satisfied: filelock in /usr/local/lib/python3.7/dist-packages (from transformers) (3.0.12)\n",
            "Requirement already satisfied: packaging in /usr/local/lib/python3.7/dist-packages (from transformers) (20.9)\n",
            "Requirement already satisfied: regex!=2019.12.17 in /usr/local/lib/python3.7/dist-packages (from transformers) (2019.12.20)\n",
            "Requirement already satisfied: requests in /usr/local/lib/python3.7/dist-packages (from transformers) (2.23.0)\n",
            "Requirement already satisfied: importlib-metadata; python_version < \"3.8\" in /usr/local/lib/python3.7/dist-packages (from transformers) (3.8.1)\n",
            "Requirement already satisfied: numpy>=1.17 in /usr/local/lib/python3.7/dist-packages (from transformers) (1.19.5)\n",
            "Requirement already satisfied: sacremoses in /usr/local/lib/python3.7/dist-packages (from transformers) (0.0.44)\n",
            "Collecting tokenizers<0.11,>=0.10.1\n",
            "\u001b[?25l  Downloading https://files.pythonhosted.org/packages/ae/04/5b870f26a858552025a62f1649c20d29d2672c02ff3c3fb4c688ca46467a/tokenizers-0.10.2-cp37-cp37m-manylinux2010_x86_64.whl (3.3MB)\n",
            "\u001b[K     |████████████████████████████████| 3.3MB 43.7MB/s \n",
            "\u001b[?25hRequirement already satisfied: tqdm>=4.27 in /usr/local/lib/python3.7/dist-packages (from transformers) (4.41.1)\n",
            "Requirement already satisfied: pyparsing>=2.0.2 in /usr/local/lib/python3.7/dist-packages (from packaging->transformers) (2.4.7)\n",
            "Requirement already satisfied: urllib3!=1.25.0,!=1.25.1,<1.26,>=1.21.1 in /usr/local/lib/python3.7/dist-packages (from requests->transformers) (1.24.3)\n",
            "Requirement already satisfied: chardet<4,>=3.0.2 in /usr/local/lib/python3.7/dist-packages (from requests->transformers) (3.0.4)\n",
            "Requirement already satisfied: certifi>=2017.4.17 in /usr/local/lib/python3.7/dist-packages (from requests->transformers) (2020.12.5)\n",
            "Requirement already satisfied: idna<3,>=2.5 in /usr/local/lib/python3.7/dist-packages (from requests->transformers) (2.10)\n",
            "Requirement already satisfied: zipp>=0.5 in /usr/local/lib/python3.7/dist-packages (from importlib-metadata; python_version < \"3.8\"->transformers) (3.4.1)\n",
            "Requirement already satisfied: typing-extensions>=3.6.4; python_version < \"3.8\" in /usr/local/lib/python3.7/dist-packages (from importlib-metadata; python_version < \"3.8\"->transformers) (3.7.4.3)\n",
            "Requirement already satisfied: click in /usr/local/lib/python3.7/dist-packages (from sacremoses->transformers) (7.1.2)\n",
            "Requirement already satisfied: six in /usr/local/lib/python3.7/dist-packages (from sacremoses->transformers) (1.15.0)\n",
            "Requirement already satisfied: joblib in /usr/local/lib/python3.7/dist-packages (from sacremoses->transformers) (1.0.1)\n",
            "Installing collected packages: tokenizers, transformers\n",
            "  Found existing installation: tokenizers 0.5.2\n",
            "    Uninstalling tokenizers-0.5.2:\n",
            "      Successfully uninstalled tokenizers-0.5.2\n",
            "Successfully installed tokenizers-0.10.2 transformers-4.5.0\n"
          ],
          "name": "stdout"
        }
      ]
    },
    {
      "cell_type": "code",
      "metadata": {
        "colab": {
          "base_uri": "https://localhost:8080/"
        },
        "id": "pyqx2tIAEvFS",
        "outputId": "eeee7143-ed92-435f-eaf5-31a4e65ce25d"
      },
      "source": [
        "#!python preprocess.py"
      ],
      "execution_count": null,
      "outputs": [
        {
          "output_type": "stream",
          "text": [
            "generating paths for ./data/csqa/graph/train.graph.adj.pk...\n",
            "Searching for paths: 100% 48705/48705 [1:51:10<00:00,  7.30it/s]\n",
            "paths saved to ./data/csqa/paths/train.paths.adj.jsonl\n",
            "graphs saved to ./data/csqa/graph/train.graph.adj.jsonl\n",
            "\n",
            "generating paths for ./data/csqa/graph/dev.graph.adj.pk...\n",
            "Searching for paths: 100% 6105/6105 [13:57<00:00,  7.29it/s]\n",
            "paths saved to ./data/csqa/paths/dev.paths.adj.jsonl\n",
            "graphs saved to ./data/csqa/graph/dev.graph.adj.jsonl\n",
            "\n",
            "generating paths for ./data/csqa/graph/test.graph.adj.pk...\n",
            "Searching for paths: 100% 5700/5700 [12:09<00:00,  7.81it/s]\n",
            "paths saved to ./data/csqa/paths/test.paths.adj.jsonl\n",
            "graphs saved to ./data/csqa/graph/test.graph.adj.jsonl\n",
            "\n",
            "Successfully run csqa\n"
          ],
          "name": "stdout"
        }
      ]
    },
    {
      "cell_type": "markdown",
      "metadata": {
        "id": "R3hUMoExTQbJ"
      },
      "source": [
        "# 새 섹션"
      ]
    },
    {
      "cell_type": "markdown",
      "metadata": {
        "id": "mno7Majn1lwZ"
      },
      "source": [
        "# 새 섹션"
      ]
    },
    {
      "cell_type": "code",
      "metadata": {
        "id": "F3lpWuxX3Jqw",
        "colab": {
          "base_uri": "https://localhost:8080/"
        },
        "outputId": "2cc71faa-0551-4992-e229-8e11401c69b6"
      },
      "source": [
        "from google.colab import drive\n",
        "drive.mount('/content/drive')"
      ],
      "execution_count": null,
      "outputs": [
        {
          "output_type": "stream",
          "text": [
            "Drive already mounted at /content/drive; to attempt to forcibly remount, call drive.mount(\"/content/drive\", force_remount=True).\n"
          ],
          "name": "stdout"
        }
      ]
    },
    {
      "cell_type": "markdown",
      "metadata": {
        "id": "8sH5O7uy8dOT"
      },
      "source": [
        "# 새 섹션"
      ]
    },
    {
      "cell_type": "markdown",
      "metadata": {
        "id": "chw2FbMjFyrC"
      },
      "source": [
        "run_generate.sh"
      ]
    },
    {
      "cell_type": "code",
      "metadata": {
        "colab": {
          "base_uri": "https://localhost:8080/"
        },
        "id": "nEtrjfozhHgF",
        "outputId": "54349ea3-7747-4290-cba0-6f84d9d4254b"
      },
      "source": [
        "!ls"
      ],
      "execution_count": null,
      "outputs": [
        {
          "output_type": "stream",
          "text": [
            "calc_path_embedding.py\tgenerated_path_train.log  path_embeddings  scripts\n",
            "config\t\t\tmain.py\t\t\t  preprocess.py    utils\n",
            "data\t\t\tmodeling\t\t  saved_models\t   wandb\n"
          ],
          "name": "stdout"
        }
      ]
    },
    {
      "cell_type": "code",
      "metadata": {
        "colab": {
          "base_uri": "https://localhost:8080/"
        },
        "id": "85m0obR67HJK",
        "outputId": "e974c2fc-b156-40ec-bee5-8cd0fb6d0542"
      },
      "source": [
        "#!pip uninstall transformers"
      ],
      "execution_count": null,
      "outputs": [
        {
          "output_type": "stream",
          "text": [
            "Uninstalling transformers-2.8.0:\n",
            "  Would remove:\n",
            "    /usr/local/bin/transformers-cli\n",
            "    /usr/local/lib/python3.7/dist-packages/transformers-2.8.0.dist-info/*\n",
            "    /usr/local/lib/python3.7/dist-packages/transformers/*\n",
            "Proceed (y/n)? y\n",
            "  Successfully uninstalled transformers-2.8.0\n"
          ],
          "name": "stdout"
        }
      ]
    },
    {
      "cell_type": "code",
      "metadata": {
        "colab": {
          "base_uri": "https://localhost:8080/"
        },
        "id": "h3A7J7kS5p-G",
        "outputId": "95932069-98c4-4869-f164-a9db3952c0aa"
      },
      "source": [
        "!pip install --upgrade transformers==2.8.0"
      ],
      "execution_count": null,
      "outputs": [
        {
          "output_type": "stream",
          "text": [
            "Collecting transformers==2.8.0\n",
            "\u001b[?25l  Downloading https://files.pythonhosted.org/packages/a3/78/92cedda05552398352ed9784908b834ee32a0bd071a9b32de287327370b7/transformers-2.8.0-py3-none-any.whl (563kB)\n",
            "\u001b[K     |████████████████████████████████| 573kB 5.7MB/s \n",
            "\u001b[?25hRequirement already satisfied, skipping upgrade: requests in /usr/local/lib/python3.7/dist-packages (from transformers==2.8.0) (2.23.0)\n",
            "Requirement already satisfied, skipping upgrade: regex!=2019.12.17 in /usr/local/lib/python3.7/dist-packages (from transformers==2.8.0) (2019.12.20)\n",
            "Collecting tokenizers==0.5.2\n",
            "\u001b[?25l  Downloading https://files.pythonhosted.org/packages/d6/e3/5e49e9a83fb605aaa34a1c1173e607302fecae529428c28696fb18f1c2c9/tokenizers-0.5.2-cp37-cp37m-manylinux1_x86_64.whl (5.6MB)\n",
            "\u001b[K     |████████████████████████████████| 5.6MB 8.2MB/s \n",
            "\u001b[?25hCollecting boto3\n",
            "\u001b[?25l  Downloading https://files.pythonhosted.org/packages/c3/8c/bcaed1ce8d9e666496e4703cce8a6b6df9c9635f6ccbc9eb6632ee4b18ff/boto3-1.17.51-py2.py3-none-any.whl (131kB)\n",
            "\u001b[K     |████████████████████████████████| 133kB 36.1MB/s \n",
            "\u001b[?25hCollecting sentencepiece\n",
            "\u001b[?25l  Downloading https://files.pythonhosted.org/packages/f5/99/e0808cb947ba10f575839c43e8fafc9cc44e4a7a2c8f79c60db48220a577/sentencepiece-0.1.95-cp37-cp37m-manylinux2014_x86_64.whl (1.2MB)\n",
            "\u001b[K     |████████████████████████████████| 1.2MB 43.0MB/s \n",
            "\u001b[?25hCollecting sacremoses\n",
            "\u001b[?25l  Downloading https://files.pythonhosted.org/packages/08/cd/342e584ee544d044fb573ae697404ce22ede086c9e87ce5960772084cad0/sacremoses-0.0.44.tar.gz (862kB)\n",
            "\u001b[K     |████████████████████████████████| 870kB 45.0MB/s \n",
            "\u001b[?25hRequirement already satisfied, skipping upgrade: tqdm>=4.27 in /usr/local/lib/python3.7/dist-packages (from transformers==2.8.0) (4.41.1)\n",
            "Requirement already satisfied, skipping upgrade: filelock in /usr/local/lib/python3.7/dist-packages (from transformers==2.8.0) (3.0.12)\n",
            "Requirement already satisfied, skipping upgrade: numpy in /usr/local/lib/python3.7/dist-packages (from transformers==2.8.0) (1.19.5)\n",
            "Requirement already satisfied, skipping upgrade: certifi>=2017.4.17 in /usr/local/lib/python3.7/dist-packages (from requests->transformers==2.8.0) (2020.12.5)\n",
            "Requirement already satisfied, skipping upgrade: urllib3!=1.25.0,!=1.25.1,<1.26,>=1.21.1 in /usr/local/lib/python3.7/dist-packages (from requests->transformers==2.8.0) (1.24.3)\n",
            "Requirement already satisfied, skipping upgrade: idna<3,>=2.5 in /usr/local/lib/python3.7/dist-packages (from requests->transformers==2.8.0) (2.10)\n",
            "Requirement already satisfied, skipping upgrade: chardet<4,>=3.0.2 in /usr/local/lib/python3.7/dist-packages (from requests->transformers==2.8.0) (3.0.4)\n",
            "Collecting jmespath<1.0.0,>=0.7.1\n",
            "  Downloading https://files.pythonhosted.org/packages/07/cb/5f001272b6faeb23c1c9e0acc04d48eaaf5c862c17709d20e3469c6e0139/jmespath-0.10.0-py2.py3-none-any.whl\n",
            "Collecting botocore<1.21.0,>=1.20.51\n",
            "\u001b[?25l  Downloading https://files.pythonhosted.org/packages/3c/1d/7a3741f17a10cc599bb3728351992b10094328ee07b8a129250ba2039642/botocore-1.20.51-py2.py3-none-any.whl (7.4MB)\n",
            "\u001b[K     |████████████████████████████████| 7.4MB 40.8MB/s \n",
            "\u001b[?25hCollecting s3transfer<0.4.0,>=0.3.0\n",
            "\u001b[?25l  Downloading https://files.pythonhosted.org/packages/00/89/0cb4e92c239e6425b9b0035227b8cdf9d3d098a5c9e95632c3815df63a09/s3transfer-0.3.7-py2.py3-none-any.whl (73kB)\n",
            "\u001b[K     |████████████████████████████████| 81kB 8.7MB/s \n",
            "\u001b[?25hRequirement already satisfied, skipping upgrade: six in /usr/local/lib/python3.7/dist-packages (from sacremoses->transformers==2.8.0) (1.15.0)\n",
            "Requirement already satisfied, skipping upgrade: click in /usr/local/lib/python3.7/dist-packages (from sacremoses->transformers==2.8.0) (7.1.2)\n",
            "Requirement already satisfied, skipping upgrade: joblib in /usr/local/lib/python3.7/dist-packages (from sacremoses->transformers==2.8.0) (1.0.1)\n",
            "Requirement already satisfied, skipping upgrade: python-dateutil<3.0.0,>=2.1 in /usr/local/lib/python3.7/dist-packages (from botocore<1.21.0,>=1.20.51->boto3->transformers==2.8.0) (2.8.1)\n",
            "Building wheels for collected packages: sacremoses\n",
            "  Building wheel for sacremoses (setup.py) ... \u001b[?25l\u001b[?25hdone\n",
            "  Created wheel for sacremoses: filename=sacremoses-0.0.44-cp37-none-any.whl size=886084 sha256=35dd2816d4c30ec9e52f7778972ebaa2f07cab1bdc8576e6a6d2f8d93a0eb08d\n",
            "  Stored in directory: /root/.cache/pip/wheels/3e/fb/c0/13ab4d63d537658f448366744654323077c4d90069b6512f3c\n",
            "Successfully built sacremoses\n",
            "\u001b[31mERROR: botocore 1.20.51 has requirement urllib3<1.27,>=1.25.4, but you'll have urllib3 1.24.3 which is incompatible.\u001b[0m\n",
            "Installing collected packages: tokenizers, jmespath, botocore, s3transfer, boto3, sentencepiece, sacremoses, transformers\n",
            "Successfully installed boto3-1.17.51 botocore-1.20.51 jmespath-0.10.0 s3transfer-0.3.7 sacremoses-0.0.44 sentencepiece-0.1.95 tokenizers-0.5.2 transformers-2.8.0\n"
          ],
          "name": "stdout"
        }
      ]
    },
    {
      "cell_type": "code",
      "metadata": {
        "colab": {
          "base_uri": "https://localhost:8080/"
        },
        "id": "8efMKUep5brg",
        "outputId": "9d028901-61cb-4412-bc19-a1721981f504"
      },
      "source": [
        "!pip show transformers"
      ],
      "execution_count": null,
      "outputs": [
        {
          "output_type": "stream",
          "text": [
            "Name: transformers\n",
            "Version: 2.8.0\n",
            "Summary: State-of-the-art Natural Language Processing for TensorFlow 2.0 and PyTorch\n",
            "Home-page: https://github.com/huggingface/transformers\n",
            "Author: Thomas Wolf, Lysandre Debut, Victor Sanh, Julien Chaumond, Sam Shleifer, Google AI Language Team Authors, Open AI team Authors, Facebook AI Authors, Carnegie Mellon University Authors\n",
            "Author-email: thomas@huggingface.co\n",
            "License: Apache\n",
            "Location: /usr/local/lib/python3.7/dist-packages\n",
            "Requires: tokenizers, filelock, requests, sentencepiece, sacremoses, boto3, tqdm, numpy, regex\n",
            "Required-by: \n"
          ],
          "name": "stdout"
        }
      ]
    },
    {
      "cell_type": "markdown",
      "metadata": {
        "id": "60za6TKNWOEv"
      },
      "source": [
        "## run_generate"
      ]
    },
    {
      "cell_type": "code",
      "metadata": {
        "id": "_Z9F0qG4MhMb"
      },
      "source": [
        "#!chmod +x ./scripts/run_generate.sh #(python ->python3)"
      ],
      "execution_count": null,
      "outputs": []
    },
    {
      "cell_type": "code",
      "metadata": {
        "colab": {
          "base_uri": "https://localhost:8080/"
        },
        "id": "h_bZ7beEXO20",
        "outputId": "4dfa09fe-eb70-4975-b303-d3321e5ba9d9"
      },
      "source": [
        "!pip install pickle5 #data_helper.py import pickle5 as pickle"
      ],
      "execution_count": null,
      "outputs": [
        {
          "output_type": "stream",
          "text": [
            "Collecting pickle5\n",
            "\u001b[?25l  Downloading https://files.pythonhosted.org/packages/f7/4c/5c4dd0462c8d3a6bc4af500a6af240763c2ebd1efdc736fc2c946d44b70a/pickle5-0.0.11.tar.gz (132kB)\n",
            "\r\u001b[K     |██▌                             | 10kB 23.5MB/s eta 0:00:01\r\u001b[K     |█████                           | 20kB 29.3MB/s eta 0:00:01\r\u001b[K     |███████▍                        | 30kB 22.4MB/s eta 0:00:01\r\u001b[K     |██████████                      | 40kB 17.2MB/s eta 0:00:01\r\u001b[K     |████████████▍                   | 51kB 15.5MB/s eta 0:00:01\r\u001b[K     |██████████████▉                 | 61kB 14.5MB/s eta 0:00:01\r\u001b[K     |█████████████████▍              | 71kB 13.8MB/s eta 0:00:01\r\u001b[K     |███████████████████▉            | 81kB 13.8MB/s eta 0:00:01\r\u001b[K     |██████████████████████▎         | 92kB 13.4MB/s eta 0:00:01\r\u001b[K     |████████████████████████▉       | 102kB 13.4MB/s eta 0:00:01\r\u001b[K     |███████████████████████████▎    | 112kB 13.4MB/s eta 0:00:01\r\u001b[K     |█████████████████████████████▊  | 122kB 13.4MB/s eta 0:00:01\r\u001b[K     |████████████████████████████████| 133kB 13.4MB/s \n",
            "\u001b[?25hBuilding wheels for collected packages: pickle5\n",
            "  Building wheel for pickle5 (setup.py) ... \u001b[?25l\u001b[?25hdone\n",
            "  Created wheel for pickle5: filename=pickle5-0.0.11-cp37-cp37m-linux_x86_64.whl size=219272 sha256=f8036c0a70a50bcd5493925393c6cbdac41b6b414c66f776a27f773a09a4263f\n",
            "  Stored in directory: /root/.cache/pip/wheels/a6/90/95/f889ca4aa8b0e0c7f21c8470b6f5d6032f0390a3a141a9a3bd\n",
            "Successfully built pickle5\n",
            "Installing collected packages: pickle5\n",
            "Successfully installed pickle5-0.0.11\n"
          ],
          "name": "stdout"
        }
      ]
    },
    {
      "cell_type": "code",
      "metadata": {
        "colab": {
          "base_uri": "https://localhost:8080/"
        },
        "id": "WRuFo3Otgb-M",
        "outputId": "1c6f66f5-9c8f-4b12-fa7d-dc7ad89b60f5"
      },
      "source": [
        "!ls"
      ],
      "execution_count": null,
      "outputs": [
        {
          "output_type": "stream",
          "text": [
            "calc_path_embedding.py\tgenerated_path_train.log  path_embeddings  utils\n",
            "config\t\t\tmain.py\t\t\t  preprocess.py\n",
            "data\t\t\tmodeling\t\t  scripts\n"
          ],
          "name": "stdout"
        }
      ]
    },
    {
      "cell_type": "code",
      "metadata": {
        "id": "wdf1dARHRTZL"
      },
      "source": [
        "#!bash ./scripts/run_generate.sh"
      ],
      "execution_count": null,
      "outputs": []
    },
    {
      "cell_type": "markdown",
      "metadata": {
        "id": "8P1qys7SPWnc"
      },
      "source": [
        "To kill background process"
      ]
    },
    {
      "cell_type": "code",
      "metadata": {
        "colab": {
          "base_uri": "https://localhost:8080/"
        },
        "id": "-RZq4IlEABKa",
        "outputId": "fdc8aca5-504f-450b-843e-10f6bbd97b0d"
      },
      "source": [
        "#!ps -f"
      ],
      "execution_count": null,
      "outputs": [
        {
          "output_type": "stream",
          "text": [
            "UID          PID    PPID  C STIME TTY          TIME CMD\n",
            "root           1       0  0 04:19 ?        00:00:03 /tools/node/bin/node /datala\n",
            "root          15       0  0 04:19 ?        00:00:00 tail -n +0 -F /root/.config/\n",
            "root          59       1  0 04:19 ?        00:00:04 /usr/bin/python2 /usr/local/\n",
            "root          60       1  0 04:19 ?        00:00:03 /usr/local/bin/dap_multiplex\n",
            "root          71      59  0 04:22 ?        00:00:13 /usr/bin/python3 -m ipykerne\n",
            "root          93       1  0 04:22 ?        00:00:09 /usr/bin/python3 /usr/local/\n",
            "root         152       1  0 04:24 ?        00:00:00 /bin/bash --noediting -i\n",
            "root         153     152  0 04:24 ?        00:00:00 /opt/google/drive/drive --fe\n",
            "root         154     152  0 04:24 ?        00:00:00 grep --color=auto --line-buf\n",
            "root         230     153  0 04:25 ?        00:00:31 /opt/google/drive/drive --fe\n",
            "root         283       1  0 04:25 ?        00:00:00 bash -c tail -n +0 -F \"/root\n",
            "root         284     283  0 04:25 ?        00:00:00 tail -n +0 -F /root/.config/\n",
            "root         285     283  0 04:25 ?        00:00:00 python3 /opt/google/drive/dr\n",
            "root         758       1 22 05:23 ?        00:00:19 python3 -u main.py --dataset\n",
            "root         781     758  0 05:23 ?        00:00:00 /usr/bin/python3 -Wignore:::\n",
            "root         782     758  4 05:23 ?        00:00:03 /usr/bin/python3 -Wignore:::\n",
            "root         841      71  0 05:24 ?        00:00:00 ps -f\n"
          ],
          "name": "stdout"
        }
      ]
    },
    {
      "cell_type": "code",
      "metadata": {
        "id": "AnTnU2YuANi1"
      },
      "source": [
        "#!kill -9 2174"
      ],
      "execution_count": null,
      "outputs": []
    },
    {
      "cell_type": "markdown",
      "metadata": {
        "id": "wfpd5XkwIfJs"
      },
      "source": [
        "###Main 함수"
      ]
    },
    {
      "cell_type": "markdown",
      "metadata": {
        "id": "x02rRqkUY_lV"
      },
      "source": [
        "debug_save_emb.log에 path들 저장됨\n"
      ]
    },
    {
      "cell_type": "code",
      "metadata": {
        "colab": {
          "base_uri": "https://localhost:8080/"
        },
        "id": "OaCLeihz1RPE",
        "outputId": "5a553e65-4572-495f-fe23-ae89055b542b"
      },
      "source": [
        "%cd /content/drive/MyDrive/21-1_SoJong/20210401/path_generator/commonsense-qa"
      ],
      "execution_count": null,
      "outputs": [
        {
          "output_type": "stream",
          "text": [
            "/content/drive/.shortcut-targets-by-id/1liN_kVfSs1TfvwceZiGrLnCj9r84a8CQ/21-1_SoJong/20210401/path_generator/commonsense-qa\n"
          ],
          "name": "stdout"
        }
      ]
    },
    {
      "cell_type": "code",
      "metadata": {
        "colab": {
          "base_uri": "https://localhost:8080/"
        },
        "id": "6py2YmnN2ub-",
        "outputId": "eb60402f-2347-40ad-ebd2-640d52e6f581"
      },
      "source": [
        "!ls"
      ],
      "execution_count": null,
      "outputs": [
        {
          "output_type": "stream",
          "text": [
            "calc_path_embedding.py\tgenerated_path_test.log   path_embeddings  utils\n",
            "config\t\t\tgenerated_path_train.log  preprocess.py\n",
            "data\t\t\tmain.py\t\t\t  saved_models\n",
            "generated_path_dev.log\tmodeling\t\t  scripts\n"
          ],
          "name": "stdout"
        }
      ]
    },
    {
      "cell_type": "markdown",
      "metadata": {
        "id": "qZZGVn1OF8pP"
      },
      "source": [
        "training"
      ]
    },
    {
      "cell_type": "markdown",
      "metadata": {
        "id": "4nIxiF9jdgb8"
      },
      "source": [
        "wandb 가입한 후 터미널 켜서 wandb login 하고 run_main.sh 돌리기. \n",
        "\n",
        "$wandb login \n",
        "\n",
        "무슨 링크 뜨면 들어가서 인증코드 복붙해서 입력하기\n",
        "\n",
        "완료! "
      ]
    },
    {
      "cell_type": "code",
      "metadata": {
        "colab": {
          "base_uri": "https://localhost:8080/"
        },
        "id": "JroJazHoTvfv",
        "outputId": "65fdc09c-9978-4918-ad18-ded39a122e25"
      },
      "source": [
        "!pip install wandb"
      ],
      "execution_count": null,
      "outputs": [
        {
          "output_type": "stream",
          "text": [
            "Collecting wandb\n",
            "\u001b[?25l  Downloading https://files.pythonhosted.org/packages/47/af/4cfe48fe55046181b992251933cff4ceb3bfd71a42838f5fe683683cd925/wandb-0.10.25-py2.py3-none-any.whl (2.1MB)\n",
            "\u001b[K     |████████████████████████████████| 2.1MB 6.0MB/s \n",
            "\u001b[?25hRequirement already satisfied: requests<3,>=2.0.0 in /usr/local/lib/python3.7/dist-packages (from wandb) (2.23.0)\n",
            "Collecting docker-pycreds>=0.4.0\n",
            "  Downloading https://files.pythonhosted.org/packages/f5/e8/f6bd1eee09314e7e6dee49cbe2c5e22314ccdb38db16c9fc72d2fa80d054/docker_pycreds-0.4.0-py2.py3-none-any.whl\n",
            "Requirement already satisfied: promise<3,>=2.0 in /usr/local/lib/python3.7/dist-packages (from wandb) (2.3)\n",
            "Requirement already satisfied: protobuf>=3.12.0 in /usr/local/lib/python3.7/dist-packages (from wandb) (3.12.4)\n",
            "Collecting configparser>=3.8.1\n",
            "  Downloading https://files.pythonhosted.org/packages/fd/01/ff260a18caaf4457eb028c96eeb405c4a230ca06c8ec9c1379f813caa52e/configparser-5.0.2-py3-none-any.whl\n",
            "Collecting pathtools\n",
            "  Downloading https://files.pythonhosted.org/packages/e7/7f/470d6fcdf23f9f3518f6b0b76be9df16dcc8630ad409947f8be2eb0ed13a/pathtools-0.1.2.tar.gz\n",
            "Requirement already satisfied: psutil>=5.0.0 in /usr/local/lib/python3.7/dist-packages (from wandb) (5.4.8)\n",
            "Requirement already satisfied: PyYAML in /usr/local/lib/python3.7/dist-packages (from wandb) (3.13)\n",
            "Collecting GitPython>=1.0.0\n",
            "\u001b[?25l  Downloading https://files.pythonhosted.org/packages/a6/99/98019716955ba243657daedd1de8f3a88ca1f5b75057c38e959db22fb87b/GitPython-3.1.14-py3-none-any.whl (159kB)\n",
            "\u001b[K     |████████████████████████████████| 163kB 43.1MB/s \n",
            "\u001b[?25hCollecting shortuuid>=0.5.0\n",
            "  Downloading https://files.pythonhosted.org/packages/25/a6/2ecc1daa6a304e7f1b216f0896b26156b78e7c38e1211e9b798b4716c53d/shortuuid-1.0.1-py3-none-any.whl\n",
            "Requirement already satisfied: Click>=7.0 in /usr/local/lib/python3.7/dist-packages (from wandb) (7.1.2)\n",
            "Requirement already satisfied: python-dateutil>=2.6.1 in /usr/local/lib/python3.7/dist-packages (from wandb) (2.8.1)\n",
            "Requirement already satisfied: six>=1.13.0 in /usr/local/lib/python3.7/dist-packages (from wandb) (1.15.0)\n",
            "Collecting subprocess32>=3.5.3\n",
            "\u001b[?25l  Downloading https://files.pythonhosted.org/packages/32/c8/564be4d12629b912ea431f1a50eb8b3b9d00f1a0b1ceff17f266be190007/subprocess32-3.5.4.tar.gz (97kB)\n",
            "\u001b[K     |████████████████████████████████| 102kB 11.2MB/s \n",
            "\u001b[?25hCollecting sentry-sdk>=0.4.0\n",
            "\u001b[?25l  Downloading https://files.pythonhosted.org/packages/f3/92/5a33be64990ba815364a8f2dd9e6f51de60d23dfddafb4f1fc5577d4dc64/sentry_sdk-1.0.0-py2.py3-none-any.whl (131kB)\n",
            "\u001b[K     |████████████████████████████████| 133kB 37.6MB/s \n",
            "\u001b[?25hRequirement already satisfied: chardet<4,>=3.0.2 in /usr/local/lib/python3.7/dist-packages (from requests<3,>=2.0.0->wandb) (3.0.4)\n",
            "Requirement already satisfied: urllib3!=1.25.0,!=1.25.1,<1.26,>=1.21.1 in /usr/local/lib/python3.7/dist-packages (from requests<3,>=2.0.0->wandb) (1.24.3)\n",
            "Requirement already satisfied: certifi>=2017.4.17 in /usr/local/lib/python3.7/dist-packages (from requests<3,>=2.0.0->wandb) (2020.12.5)\n",
            "Requirement already satisfied: idna<3,>=2.5 in /usr/local/lib/python3.7/dist-packages (from requests<3,>=2.0.0->wandb) (2.10)\n",
            "Requirement already satisfied: setuptools in /usr/local/lib/python3.7/dist-packages (from protobuf>=3.12.0->wandb) (54.2.0)\n",
            "Collecting gitdb<5,>=4.0.1\n",
            "\u001b[?25l  Downloading https://files.pythonhosted.org/packages/ea/e8/f414d1a4f0bbc668ed441f74f44c116d9816833a48bf81d22b697090dba8/gitdb-4.0.7-py3-none-any.whl (63kB)\n",
            "\u001b[K     |████████████████████████████████| 71kB 7.3MB/s \n",
            "\u001b[?25hCollecting smmap<5,>=3.0.1\n",
            "  Downloading https://files.pythonhosted.org/packages/68/ee/d540eb5e5996eb81c26ceffac6ee49041d473bc5125f2aa995cf51ec1cf1/smmap-4.0.0-py2.py3-none-any.whl\n",
            "Building wheels for collected packages: pathtools, subprocess32\n",
            "  Building wheel for pathtools (setup.py) ... \u001b[?25l\u001b[?25hdone\n",
            "  Created wheel for pathtools: filename=pathtools-0.1.2-cp37-none-any.whl size=8786 sha256=eee46c0e746ae68a3b3468a689a6a3267cd082b598edef1effddeae627b329b6\n",
            "  Stored in directory: /root/.cache/pip/wheels/0b/04/79/c3b0c3a0266a3cb4376da31e5bfe8bba0c489246968a68e843\n",
            "  Building wheel for subprocess32 (setup.py) ... \u001b[?25l\u001b[?25hdone\n",
            "  Created wheel for subprocess32: filename=subprocess32-3.5.4-cp37-none-any.whl size=6489 sha256=5df86f990afc3f64b4bcf86cf06089d7b87d73841c72f6fb484734f508a93113\n",
            "  Stored in directory: /root/.cache/pip/wheels/68/39/1a/5e402bdfdf004af1786c8b853fd92f8c4a04f22aad179654d1\n",
            "Successfully built pathtools subprocess32\n",
            "Installing collected packages: docker-pycreds, configparser, pathtools, smmap, gitdb, GitPython, shortuuid, subprocess32, sentry-sdk, wandb\n",
            "Successfully installed GitPython-3.1.14 configparser-5.0.2 docker-pycreds-0.4.0 gitdb-4.0.7 pathtools-0.1.2 sentry-sdk-1.0.0 shortuuid-1.0.1 smmap-4.0.0 subprocess32-3.5.4 wandb-0.10.25\n"
          ],
          "name": "stdout"
        }
      ]
    },
    {
      "cell_type": "code",
      "metadata": {
        "colab": {
          "base_uri": "https://localhost:8080/"
        },
        "id": "gq3NZZwp103c",
        "outputId": "34f5b48e-bca2-42c4-b923-f877010de33c"
      },
      "source": [
        "! wandb login"
      ],
      "execution_count": null,
      "outputs": [
        {
          "output_type": "stream",
          "text": [
            "\u001b[34m\u001b[1mwandb\u001b[0m: You can find your API key in your browser here: https://wandb.ai/authorize\n",
            "\u001b[34m\u001b[1mwandb\u001b[0m: Paste an API key from your profile and hit enter: \n",
            "\u001b[34m\u001b[1mwandb\u001b[0m: Appending key for api.wandb.ai to your netrc file: /root/.netrc\n"
          ],
          "name": "stdout"
        }
      ]
    },
    {
      "cell_type": "code",
      "metadata": {
        "id": "4RkYNNRVhrvX",
        "colab": {
          "base_uri": "https://localhost:8080/"
        },
        "outputId": "d6043139-2e18-4801-bfd1-3200e86c9fea"
      },
      "source": [
        "!pip install dgl"
      ],
      "execution_count": null,
      "outputs": [
        {
          "output_type": "stream",
          "text": [
            "Collecting dgl\n",
            "\u001b[?25l  Downloading https://files.pythonhosted.org/packages/71/c4/ce24841375cf4393787dbf9a645e271c19a03d2d9a0e5770b08ba76bcfde/dgl-0.6.1-cp37-cp37m-manylinux1_x86_64.whl (4.4MB)\n",
            "\u001b[K     |████████████████████████████████| 4.4MB 6.0MB/s \n",
            "\u001b[?25hRequirement already satisfied: networkx>=2.1 in /usr/local/lib/python3.7/dist-packages (from dgl) (2.5.1)\n",
            "Requirement already satisfied: numpy>=1.14.0 in /usr/local/lib/python3.7/dist-packages (from dgl) (1.19.5)\n",
            "Requirement already satisfied: scipy>=1.1.0 in /usr/local/lib/python3.7/dist-packages (from dgl) (1.4.1)\n",
            "Requirement already satisfied: requests>=2.19.0 in /usr/local/lib/python3.7/dist-packages (from dgl) (2.23.0)\n",
            "Requirement already satisfied: decorator<5,>=4.3 in /usr/local/lib/python3.7/dist-packages (from networkx>=2.1->dgl) (4.4.2)\n",
            "Requirement already satisfied: chardet<4,>=3.0.2 in /usr/local/lib/python3.7/dist-packages (from requests>=2.19.0->dgl) (3.0.4)\n",
            "Requirement already satisfied: idna<3,>=2.5 in /usr/local/lib/python3.7/dist-packages (from requests>=2.19.0->dgl) (2.10)\n",
            "Requirement already satisfied: urllib3!=1.25.0,!=1.25.1,<1.26,>=1.21.1 in /usr/local/lib/python3.7/dist-packages (from requests>=2.19.0->dgl) (1.24.3)\n",
            "Requirement already satisfied: certifi>=2017.4.17 in /usr/local/lib/python3.7/dist-packages (from requests>=2.19.0->dgl) (2020.12.5)\n",
            "Installing collected packages: dgl\n",
            "Successfully installed dgl-0.6.1\n"
          ],
          "name": "stdout"
        }
      ]
    },
    {
      "cell_type": "markdown",
      "metadata": {
        "id": "qUEui0cCSDAH"
      },
      "source": [
        "# Inhouse"
      ]
    },
    {
      "cell_type": "code",
      "metadata": {
        "colab": {
          "base_uri": "https://localhost:8080/"
        },
        "id": "bGgv3xTNSHGU",
        "outputId": "eabce180-0dac-406d-b25e-d5edd8fc5687"
      },
      "source": [
        "#!bash scripts/inhouse_split.sh"
      ],
      "execution_count": null,
      "outputs": [
        {
          "output_type": "stream",
          "text": [
            "--2021-04-06 06:25:30--  https://dl.fbaipublicfiles.com/fairseq/gpt2_bpe/dict.txt\n",
            "Resolving dl.fbaipublicfiles.com (dl.fbaipublicfiles.com)... 104.22.75.142, 104.22.74.142, 172.67.9.4, ...\n",
            "Connecting to dl.fbaipublicfiles.com (dl.fbaipublicfiles.com)|104.22.75.142|:443... connected.\n",
            "HTTP request sent, awaiting response... 200 OK\n",
            "Length: 603290 (589K) [text/plain]\n",
            "Saving to: ‘./data/csqa/fairseq/inhouse/dict.txt’\n",
            "\n",
            "./data/csqa/fairseq 100%[===================>] 589.15K  --.-KB/s    in 0.1s    \n",
            "\n",
            "2021-04-06 06:25:30 (4.44 MB/s) - ‘./data/csqa/fairseq/inhouse/dict.txt’ saved [603290/603290]\n",
            "\n",
            "./data/csqa/inhouse_split_qids.txt\n",
            "inhouse train set saved to ./data/csqa/fairseq/inhouse/train.jsonl\n",
            "inhouse test set saved to ./data/csqa/fairseq/inhouse/test.jsonl\n",
            "inhouse train ids saved to ./data/csqa/inhouse_split_qids.txt\n",
            "inhouse test ids saved to ./data/csqa/inhouse_split_test_qids.txt\n"
          ],
          "name": "stdout"
        }
      ]
    },
    {
      "cell_type": "markdown",
      "metadata": {
        "id": "xj1wZkaw4lnF"
      },
      "source": [
        "##TRAIN!"
      ]
    },
    {
      "cell_type": "code",
      "metadata": {
        "colab": {
          "base_uri": "https://localhost:8080/"
        },
        "id": "MZYmg94NtxPJ",
        "outputId": "f586f192-fb2f-43f7-e068-aea8fbdadf8e"
      },
      "source": [
        "! pip freeze"
      ],
      "execution_count": null,
      "outputs": [
        {
          "output_type": "stream",
          "text": [
            "absl-py==0.12.0\n",
            "alabaster==0.7.12\n",
            "albumentations==0.1.12\n",
            "altair==4.1.0\n",
            "appdirs==1.4.4\n",
            "argon2-cffi==20.1.0\n",
            "astor==0.8.1\n",
            "astropy==4.2\n",
            "astunparse==1.6.3\n",
            "async-generator==1.10\n",
            "atari-py==0.2.6\n",
            "atomicwrites==1.4.0\n",
            "attrs==20.3.0\n",
            "audioread==2.1.9\n",
            "autograd==1.3\n",
            "Babel==2.9.0\n",
            "backcall==0.2.0\n",
            "beautifulsoup4==4.6.3\n",
            "bleach==3.3.0\n",
            "blis==0.4.1\n",
            "bokeh==2.3.0\n",
            "boto3==1.17.50\n",
            "botocore==1.20.50\n",
            "Bottleneck==1.3.2\n",
            "branca==0.4.2\n",
            "bs4==0.0.1\n",
            "CacheControl==0.12.6\n",
            "cachetools==4.2.1\n",
            "catalogue==1.0.0\n",
            "certifi==2020.12.5\n",
            "cffi==1.14.5\n",
            "chainer==7.4.0\n",
            "chardet==3.0.4\n",
            "click==7.1.2\n",
            "cloudpickle==1.3.0\n",
            "cmake==3.12.0\n",
            "cmdstanpy==0.9.5\n",
            "colorcet==2.0.6\n",
            "colorlover==0.3.0\n",
            "community==1.0.0b1\n",
            "configparser==5.0.2\n",
            "contextlib2==0.5.5\n",
            "convertdate==2.3.2\n",
            "coverage==3.7.1\n",
            "coveralls==0.5\n",
            "crcmod==1.7\n",
            "cufflinks==0.17.3\n",
            "cupy-cuda101==7.4.0\n",
            "cvxopt==1.2.6\n",
            "cvxpy==1.0.31\n",
            "cycler==0.10.0\n",
            "cymem==2.0.5\n",
            "Cython==0.29.22\n",
            "daft==0.0.4\n",
            "dask==2.12.0\n",
            "datascience==0.10.6\n",
            "debugpy==1.0.0\n",
            "decorator==4.4.2\n",
            "defusedxml==0.7.1\n",
            "descartes==1.1.0\n",
            "dgl==0.6.1\n",
            "dill==0.3.3\n",
            "distributed==1.25.3\n",
            "dlib==19.18.0\n",
            "dm-tree==0.1.5\n",
            "docker-pycreds==0.4.0\n",
            "docopt==0.6.2\n",
            "docutils==0.16\n",
            "dopamine-rl==1.0.5\n",
            "earthengine-api==0.1.258\n",
            "easydict==1.9\n",
            "ecos==2.0.7.post1\n",
            "editdistance==0.5.3\n",
            "en-core-web-sm==2.2.5\n",
            "entrypoints==0.3\n",
            "ephem==3.7.7.1\n",
            "et-xmlfile==1.0.1\n",
            "fa2==0.3.5\n",
            "fancyimpute==0.4.3\n",
            "fastai==1.0.61\n",
            "fastdtw==0.3.4\n",
            "fastprogress==1.0.0\n",
            "fastrlock==0.6\n",
            "fbprophet==0.7.1\n",
            "feather-format==0.4.1\n",
            "filelock==3.0.12\n",
            "firebase-admin==4.4.0\n",
            "fix-yahoo-finance==0.0.22\n",
            "Flask==1.1.2\n",
            "flatbuffers==1.12\n",
            "folium==0.8.3\n",
            "future==0.16.0\n",
            "gast==0.3.3\n",
            "GDAL==2.2.2\n",
            "gdown==3.6.4\n",
            "gensim==3.6.0\n",
            "geographiclib==1.50\n",
            "geopy==1.17.0\n",
            "gin-config==0.4.0\n",
            "gitdb==4.0.7\n",
            "GitPython==3.1.14\n",
            "glob2==0.7\n",
            "google==2.0.3\n",
            "google-api-core==1.26.2\n",
            "google-api-python-client==1.12.8\n",
            "google-auth==1.28.0\n",
            "google-auth-httplib2==0.0.4\n",
            "google-auth-oauthlib==0.4.3\n",
            "google-cloud-bigquery==1.21.0\n",
            "google-cloud-bigquery-storage==1.1.0\n",
            "google-cloud-core==1.0.3\n",
            "google-cloud-datastore==1.8.0\n",
            "google-cloud-firestore==1.7.0\n",
            "google-cloud-language==1.2.0\n",
            "google-cloud-storage==1.18.1\n",
            "google-cloud-translate==1.5.0\n",
            "google-colab==1.0.0\n",
            "google-pasta==0.2.0\n",
            "google-resumable-media==0.4.1\n",
            "googleapis-common-protos==1.53.0\n",
            "googledrivedownloader==0.4\n",
            "graphviz==0.10.1\n",
            "greenlet==1.0.0\n",
            "grpcio==1.32.0\n",
            "gspread==3.0.1\n",
            "gspread-dataframe==3.0.8\n",
            "gym==0.17.3\n",
            "h5py==2.10.0\n",
            "HeapDict==1.0.1\n",
            "hijri-converter==2.1.1\n",
            "holidays==0.10.5.2\n",
            "holoviews==1.14.2\n",
            "html5lib==1.0.1\n",
            "httpimport==0.5.18\n",
            "httplib2==0.17.4\n",
            "httplib2shim==0.0.3\n",
            "humanize==0.5.1\n",
            "hyperopt==0.1.2\n",
            "ideep4py==2.0.0.post3\n",
            "idna==2.10\n",
            "imageio==2.4.1\n",
            "imagesize==1.2.0\n",
            "imbalanced-learn==0.4.3\n",
            "imblearn==0.0\n",
            "imgaug==0.2.9\n",
            "importlib-metadata==3.8.1\n",
            "importlib-resources==5.1.2\n",
            "imutils==0.5.4\n",
            "inflect==2.1.0\n",
            "iniconfig==1.1.1\n",
            "intel-openmp==2021.2.0\n",
            "intervaltree==2.1.0\n",
            "ipykernel==4.10.1\n",
            "ipython==5.5.0\n",
            "ipython-genutils==0.2.0\n",
            "ipython-sql==0.3.9\n",
            "ipywidgets==7.6.3\n",
            "itsdangerous==1.1.0\n",
            "jax==0.2.11\n",
            "jaxlib==0.1.64+cuda110\n",
            "jdcal==1.4.1\n",
            "jedi==0.18.0\n",
            "jieba==0.42.1\n",
            "Jinja2==2.11.3\n",
            "jmespath==0.10.0\n",
            "joblib==1.0.1\n",
            "jpeg4py==0.1.4\n",
            "jsonschema==2.6.0\n",
            "jupyter==1.0.0\n",
            "jupyter-client==5.3.5\n",
            "jupyter-console==5.2.0\n",
            "jupyter-core==4.7.1\n",
            "jupyterlab-pygments==0.1.2\n",
            "jupyterlab-widgets==1.0.0\n",
            "kaggle==1.5.12\n",
            "kapre==0.1.3.1\n",
            "Keras==2.4.3\n",
            "Keras-Preprocessing==1.1.2\n",
            "keras-vis==0.4.1\n",
            "kiwisolver==1.3.1\n",
            "knnimpute==0.1.0\n",
            "korean-lunar-calendar==0.2.1\n",
            "librosa==0.8.0\n",
            "lightgbm==2.2.3\n",
            "llvmlite==0.34.0\n",
            "lmdb==0.99\n",
            "LunarCalendar==0.0.9\n",
            "lxml==4.2.6\n",
            "Markdown==3.3.4\n",
            "MarkupSafe==1.1.1\n",
            "matplotlib==3.2.2\n",
            "matplotlib-venn==0.11.6\n",
            "missingno==0.4.2\n",
            "mistune==0.8.4\n",
            "mizani==0.6.0\n",
            "mkl==2019.0\n",
            "mlxtend==0.14.0\n",
            "more-itertools==8.7.0\n",
            "moviepy==0.2.3.5\n",
            "mpmath==1.2.1\n",
            "msgpack==1.0.2\n",
            "multiprocess==0.70.11.1\n",
            "multitasking==0.0.9\n",
            "murmurhash==1.0.5\n",
            "music21==5.5.0\n",
            "natsort==5.5.0\n",
            "nbclient==0.5.3\n",
            "nbconvert==5.6.1\n",
            "nbformat==5.1.2\n",
            "nest-asyncio==1.5.1\n",
            "networkx==2.5\n",
            "nibabel==3.0.2\n",
            "nltk==3.2.5\n",
            "notebook==5.3.1\n",
            "np-utils==0.5.12.1\n",
            "numba==0.51.2\n",
            "numexpr==2.7.3\n",
            "numpy==1.19.5\n",
            "nvidia-ml-py3==7.352.0\n",
            "oauth2client==4.1.3\n",
            "oauthlib==3.1.0\n",
            "okgrade==0.4.3\n",
            "opencv-contrib-python==4.1.2.30\n",
            "opencv-python==4.1.2.30\n",
            "openpyxl==2.5.9\n",
            "opt-einsum==3.3.0\n",
            "osqp==0.6.2.post0\n",
            "packaging==20.9\n",
            "palettable==3.3.0\n",
            "pandas==1.1.5\n",
            "pandas-datareader==0.9.0\n",
            "pandas-gbq==0.13.3\n",
            "pandas-profiling==1.4.1\n",
            "pandocfilters==1.4.3\n",
            "panel==0.11.1\n",
            "param==1.10.1\n",
            "parso==0.8.2\n",
            "pathlib==1.0.1\n",
            "pathtools==0.1.2\n",
            "patsy==0.5.1\n",
            "pexpect==4.8.0\n",
            "pickleshare==0.7.5\n",
            "Pillow==7.1.2\n",
            "pip-tools==4.5.1\n",
            "plac==1.1.3\n",
            "plotly==4.4.1\n",
            "plotnine==0.6.0\n",
            "pluggy==0.7.1\n",
            "pooch==1.3.0\n",
            "portpicker==1.3.1\n",
            "prefetch-generator==1.0.1\n",
            "preshed==3.0.5\n",
            "prettytable==2.1.0\n",
            "progressbar2==3.38.0\n",
            "prometheus-client==0.10.0\n",
            "promise==2.3\n",
            "prompt-toolkit==1.0.18\n",
            "protobuf==3.12.4\n",
            "psutil==5.4.8\n",
            "psycopg2==2.7.6.1\n",
            "ptyprocess==0.7.0\n",
            "py==1.10.0\n",
            "pyarrow==3.0.0\n",
            "pyasn1==0.4.8\n",
            "pyasn1-modules==0.2.8\n",
            "pycocotools==2.0.2\n",
            "pycparser==2.20\n",
            "pyct==0.4.8\n",
            "pydata-google-auth==1.1.0\n",
            "pydot==1.3.0\n",
            "pydot-ng==2.0.0\n",
            "pydotplus==2.0.2\n",
            "PyDrive==1.3.1\n",
            "pyemd==0.5.1\n",
            "pyerfa==1.7.2\n",
            "pyglet==1.5.0\n",
            "Pygments==2.6.1\n",
            "pygobject==3.26.1\n",
            "pymc3==3.7\n",
            "PyMeeus==0.5.11\n",
            "pymongo==3.11.3\n",
            "pymystem3==0.2.0\n",
            "PyOpenGL==3.1.5\n",
            "pyparsing==2.4.7\n",
            "pyrsistent==0.17.3\n",
            "pysndfile==1.3.8\n",
            "PySocks==1.7.1\n",
            "pystan==2.19.1.1\n",
            "pytest==3.6.4\n",
            "python-apt==0.0.0\n",
            "python-chess==0.23.11\n",
            "python-dateutil==2.8.1\n",
            "python-louvain==0.15\n",
            "python-slugify==4.0.1\n",
            "python-utils==2.5.6\n",
            "pytz==2018.9\n",
            "pyviz-comms==2.0.1\n",
            "PyWavelets==1.1.1\n",
            "PyYAML==3.13\n",
            "pyzmq==22.0.3\n",
            "qdldl==0.1.5.post0\n",
            "qtconsole==5.0.3\n",
            "QtPy==1.9.0\n",
            "regex==2019.12.20\n",
            "requests==2.23.0\n",
            "requests-oauthlib==1.3.0\n",
            "resampy==0.2.2\n",
            "retrying==1.3.3\n",
            "rpy2==3.4.3\n",
            "rsa==4.7.2\n",
            "s3transfer==0.3.6\n",
            "sacremoses==0.0.44\n",
            "scikit-image==0.16.2\n",
            "scikit-learn==0.22.2.post1\n",
            "scipy==1.4.1\n",
            "screen-resolution-extra==0.0.0\n",
            "scs==2.1.2\n",
            "seaborn==0.11.1\n",
            "Send2Trash==1.5.0\n",
            "sentencepiece==0.1.95\n",
            "sentry-sdk==1.0.0\n",
            "setuptools-git==1.2\n",
            "Shapely==1.7.1\n",
            "shortuuid==1.0.1\n",
            "simplegeneric==0.8.1\n",
            "six==1.15.0\n",
            "sklearn==0.0\n",
            "sklearn-pandas==1.8.0\n",
            "smart-open==4.2.0\n",
            "smmap==4.0.0\n",
            "snowballstemmer==2.1.0\n",
            "sortedcontainers==2.3.0\n",
            "SoundFile==0.10.3.post1\n",
            "spacy==2.2.4\n",
            "Sphinx==1.8.5\n",
            "sphinxcontrib-serializinghtml==1.1.4\n",
            "sphinxcontrib-websupport==1.2.4\n",
            "SQLAlchemy==1.4.3\n",
            "sqlparse==0.4.1\n",
            "srsly==1.0.5\n",
            "statsmodels==0.10.2\n",
            "subprocess32==3.5.4\n",
            "sympy==1.7.1\n",
            "tables==3.4.4\n",
            "tabulate==0.8.9\n",
            "tblib==1.7.0\n",
            "tensorboard==2.4.1\n",
            "tensorboard-plugin-wit==1.8.0\n",
            "tensorflow==2.4.1\n",
            "tensorflow-datasets==4.0.1\n",
            "tensorflow-estimator==2.4.0\n",
            "tensorflow-gcs-config==2.4.0\n",
            "tensorflow-hub==0.11.0\n",
            "tensorflow-metadata==0.29.0\n",
            "tensorflow-probability==0.12.1\n",
            "termcolor==1.1.0\n",
            "terminado==0.9.3\n",
            "testpath==0.4.4\n",
            "text-unidecode==1.3\n",
            "textblob==0.15.3\n",
            "textgenrnn==1.4.1\n",
            "Theano==1.0.5\n",
            "thinc==7.4.0\n",
            "tifffile==2021.3.31\n",
            "tokenizers==0.5.2\n",
            "toml==0.10.2\n",
            "toolz==0.11.1\n",
            "torch==1.8.1+cu101\n",
            "torchsummary==1.5.1\n",
            "torchtext==0.9.1\n",
            "torchvision==0.9.1+cu101\n",
            "tornado==5.1.1\n",
            "tqdm==4.41.1\n",
            "traitlets==5.0.5\n",
            "transformers==2.8.0\n",
            "tweepy==3.10.0\n",
            "typeguard==2.7.1\n",
            "typing-extensions==3.7.4.3\n",
            "tzlocal==1.5.1\n",
            "uritemplate==3.0.1\n",
            "urllib3==1.24.3\n",
            "vega-datasets==0.9.0\n",
            "wandb==0.10.25\n",
            "wasabi==0.8.2\n",
            "wcwidth==0.2.5\n",
            "webencodings==0.5.1\n",
            "Werkzeug==1.0.1\n",
            "widgetsnbextension==3.5.1\n",
            "wordcloud==1.5.0\n",
            "wrapt==1.12.1\n",
            "xarray==0.15.1\n",
            "xgboost==0.90\n",
            "xkit==0.0.0\n",
            "xlrd==1.1.0\n",
            "xlwt==1.3.0\n",
            "yellowbrick==0.9.1\n",
            "zict==2.0.0\n",
            "zipp==3.4.1\n"
          ],
          "name": "stdout"
        }
      ]
    },
    {
      "cell_type": "code",
      "metadata": {
        "colab": {
          "base_uri": "https://localhost:8080/"
        },
        "id": "jH82eu-HMvbo",
        "outputId": "ebb56dab-0647-4c5f-ef95-ea6ea2fc7666"
      },
      "source": [
        "!python --version"
      ],
      "execution_count": null,
      "outputs": [
        {
          "output_type": "stream",
          "text": [
            "shell-init: error retrieving current directory: getcwd: cannot access parent directories: Transport endpoint is not connected\n",
            "shell-init: error retrieving current directory: getcwd: cannot access parent directories: Transport endpoint is not connected\n",
            "Python 3.7.10\n"
          ],
          "name": "stdout"
        }
      ]
    },
    {
      "cell_type": "code",
      "metadata": {
        "id": "eN58T900ZJrW"
      },
      "source": [
        "#!chmod +x ./scripts/run_main.sh"
      ],
      "execution_count": null,
      "outputs": []
    },
    {
      "cell_type": "code",
      "metadata": {
        "id": "ln5Dx7KwaQ4A"
      },
      "source": [
        "!bash scripts/run_main.sh ./config/small_csqa.config #config gpu_device 1->0"
      ],
      "execution_count": null,
      "outputs": []
    },
    {
      "cell_type": "code",
      "metadata": {
        "id": "l36wh3_oTkiL"
      },
      "source": [
        "!kill -9 1021"
      ],
      "execution_count": null,
      "outputs": []
    },
    {
      "cell_type": "code",
      "metadata": {
        "id": "9oMpCslOjEYS",
        "colab": {
          "base_uri": "https://localhost:8080/"
        },
        "outputId": "4e30b46f-60ce-412e-fc0b-7247234a7959"
      },
      "source": [
        "!ps -f #강제종료 시도할 때 사용..."
      ],
      "execution_count": null,
      "outputs": [
        {
          "output_type": "stream",
          "text": [
            "UID          PID    PPID  C STIME TTY          TIME CMD\n",
            "root           1       0  0 07:04 ?        00:00:00 /tools/node/bin/node /datala\n",
            "root          14       0  0 07:04 ?        00:00:00 tail -n +0 -F /root/.config/\n",
            "root          58       1  0 07:05 ?        00:00:00 /usr/bin/python2 /usr/local/\n",
            "root          59       1  0 07:05 ?        00:00:00 /usr/local/bin/dap_multiplex\n",
            "root          71      58  1 07:08 ?        00:00:01 /usr/bin/python3 -m ipykerne\n",
            "root          93       1  0 07:08 ?        00:00:00 /usr/bin/python3 /usr/local/\n",
            "root         139      71  0 07:10 ?        00:00:00 ps -f\n"
          ],
          "name": "stdout"
        }
      ]
    },
    {
      "cell_type": "markdown",
      "metadata": {
        "id": "GCWp9Aqp4qRt"
      },
      "source": [
        "##INFERENCE!!"
      ]
    },
    {
      "cell_type": "code",
      "metadata": {
        "id": "AltxShf1trZi"
      },
      "source": [
        "!chmod +x ./scripts/run_inference.sh"
      ],
      "execution_count": null,
      "outputs": []
    },
    {
      "cell_type": "code",
      "metadata": {
        "id": "4EpgyWDR67-L"
      },
      "source": [
        "!bash scripts/run_inference.sh ./config/test_csqa.config #config gpu_device 1->0"
      ],
      "execution_count": null,
      "outputs": []
    },
    {
      "cell_type": "markdown",
      "metadata": {
        "id": "-tlB_Lbd_qth"
      },
      "source": [
        "## 답 비교해서 틀린 문제 id 모으기!"
      ]
    },
    {
      "cell_type": "code",
      "metadata": {
        "id": "DgQg125SHDF6"
      },
      "source": [
        "import json\n",
        "import numpy as np\n",
        "import pandas as pd\n"
      ],
      "execution_count": null,
      "outputs": []
    },
    {
      "cell_type": "code",
      "metadata": {
        "id": "5ahwNU83pu4X"
      },
      "source": [
        "\n",
        "PATH = './data/csqa/inhouse_split_test_qids.txt' #train.jsonl 에서 가져온듯\n",
        "CSQA_PATH ='./data/csqa/train_rand_split.jsonl'\n",
        "PRED_PATH ='./saved_models/csqa/roberta-large_elr2e-6_dlr1e-3_d0.1_b16_s0/predictions_test.csv'"
      ],
      "execution_count": null,
      "outputs": []
    },
    {
      "cell_type": "code",
      "metadata": {
        "id": "co9WSpKtBU5P"
      },
      "source": [
        "\n",
        "test_ids = pd.read_csv(PATH,sep='\\n',names=['ID'],header=None)"
      ],
      "execution_count": null,
      "outputs": []
    },
    {
      "cell_type": "code",
      "metadata": {
        "colab": {
          "base_uri": "https://localhost:8080/",
          "height": 419
        },
        "id": "_wlt4H3pCjdN",
        "outputId": "ed3e5e19-2004-4a8c-bac2-ef3c36e302fd"
      },
      "source": [
        "test_ids"
      ],
      "execution_count": null,
      "outputs": [
        {
          "output_type": "execute_result",
          "data": {
            "text/html": [
              "<div>\n",
              "<style scoped>\n",
              "    .dataframe tbody tr th:only-of-type {\n",
              "        vertical-align: middle;\n",
              "    }\n",
              "\n",
              "    .dataframe tbody tr th {\n",
              "        vertical-align: top;\n",
              "    }\n",
              "\n",
              "    .dataframe thead th {\n",
              "        text-align: right;\n",
              "    }\n",
              "</style>\n",
              "<table border=\"1\" class=\"dataframe\">\n",
              "  <thead>\n",
              "    <tr style=\"text-align: right;\">\n",
              "      <th></th>\n",
              "      <th>ID</th>\n",
              "    </tr>\n",
              "  </thead>\n",
              "  <tbody>\n",
              "    <tr>\n",
              "      <th>0</th>\n",
              "      <td>23505889b94e880c3e89cff4ba119860</td>\n",
              "    </tr>\n",
              "    <tr>\n",
              "      <th>1</th>\n",
              "      <td>09555c056f3cf0b7e0b84d8df4be1db7</td>\n",
              "    </tr>\n",
              "    <tr>\n",
              "      <th>2</th>\n",
              "      <td>df7861813910ae204c3bd0b3c16fe5d9</td>\n",
              "    </tr>\n",
              "    <tr>\n",
              "      <th>3</th>\n",
              "      <td>a261d4eaf8b33c0730d830ebbffbd9f8</td>\n",
              "    </tr>\n",
              "    <tr>\n",
              "      <th>4</th>\n",
              "      <td>145f1ccce9aeab854f6514f927f58288</td>\n",
              "    </tr>\n",
              "    <tr>\n",
              "      <th>...</th>\n",
              "      <td>...</td>\n",
              "    </tr>\n",
              "    <tr>\n",
              "      <th>1236</th>\n",
              "      <td>12e340afa1379f68e8ac3e51cdb91901</td>\n",
              "    </tr>\n",
              "    <tr>\n",
              "      <th>1237</th>\n",
              "      <td>2d7c9561645f41756f13c13f66294dbf</td>\n",
              "    </tr>\n",
              "    <tr>\n",
              "      <th>1238</th>\n",
              "      <td>3ccd00b58a29f9fbe83b210ea2e675e4</td>\n",
              "    </tr>\n",
              "    <tr>\n",
              "      <th>1239</th>\n",
              "      <td>47011436a95298809c57ce5f59ebf1d1</td>\n",
              "    </tr>\n",
              "    <tr>\n",
              "      <th>1240</th>\n",
              "      <td>dd640927f9920930501fb8dc3efc196b</td>\n",
              "    </tr>\n",
              "  </tbody>\n",
              "</table>\n",
              "<p>1241 rows × 1 columns</p>\n",
              "</div>"
            ],
            "text/plain": [
              "                                    ID\n",
              "0     23505889b94e880c3e89cff4ba119860\n",
              "1     09555c056f3cf0b7e0b84d8df4be1db7\n",
              "2     df7861813910ae204c3bd0b3c16fe5d9\n",
              "3     a261d4eaf8b33c0730d830ebbffbd9f8\n",
              "4     145f1ccce9aeab854f6514f927f58288\n",
              "...                                ...\n",
              "1236  12e340afa1379f68e8ac3e51cdb91901\n",
              "1237  2d7c9561645f41756f13c13f66294dbf\n",
              "1238  3ccd00b58a29f9fbe83b210ea2e675e4\n",
              "1239  47011436a95298809c57ce5f59ebf1d1\n",
              "1240  dd640927f9920930501fb8dc3efc196b\n",
              "\n",
              "[1241 rows x 1 columns]"
            ]
          },
          "metadata": {
            "tags": []
          },
          "execution_count": 12
        }
      ]
    },
    {
      "cell_type": "code",
      "metadata": {
        "id": "jSvuqkEzDHRV"
      },
      "source": [
        "  \n",
        "csqa = pd.read_json(path_or_buf=CSQA_PATH, lines=True)"
      ],
      "execution_count": null,
      "outputs": []
    },
    {
      "cell_type": "code",
      "metadata": {
        "colab": {
          "base_uri": "https://localhost:8080/",
          "height": 589
        },
        "id": "TAQYma6tG8e5",
        "outputId": "9613565f-edfb-463c-84ef-56436a5d82de"
      },
      "source": [
        "csqa"
      ],
      "execution_count": null,
      "outputs": [
        {
          "output_type": "execute_result",
          "data": {
            "text/html": [
              "<div>\n",
              "<style scoped>\n",
              "    .dataframe tbody tr th:only-of-type {\n",
              "        vertical-align: middle;\n",
              "    }\n",
              "\n",
              "    .dataframe tbody tr th {\n",
              "        vertical-align: top;\n",
              "    }\n",
              "\n",
              "    .dataframe thead th {\n",
              "        text-align: right;\n",
              "    }\n",
              "</style>\n",
              "<table border=\"1\" class=\"dataframe\">\n",
              "  <thead>\n",
              "    <tr style=\"text-align: right;\">\n",
              "      <th></th>\n",
              "      <th>answerKey</th>\n",
              "      <th>id</th>\n",
              "      <th>question</th>\n",
              "    </tr>\n",
              "  </thead>\n",
              "  <tbody>\n",
              "    <tr>\n",
              "      <th>0</th>\n",
              "      <td>A</td>\n",
              "      <td>075e483d21c29a511267ef62bedc0461</td>\n",
              "      <td>{'question_concept': 'punishing', 'choices': [...</td>\n",
              "    </tr>\n",
              "    <tr>\n",
              "      <th>1</th>\n",
              "      <td>B</td>\n",
              "      <td>61fe6e879ff18686d7552425a36344c8</td>\n",
              "      <td>{'question_concept': 'people', 'choices': [{'l...</td>\n",
              "    </tr>\n",
              "    <tr>\n",
              "      <th>2</th>\n",
              "      <td>A</td>\n",
              "      <td>4c1cb0e95b99f72d55c068ba0255c54d</td>\n",
              "      <td>{'question_concept': 'choker', 'choices': [{'l...</td>\n",
              "    </tr>\n",
              "    <tr>\n",
              "      <th>3</th>\n",
              "      <td>D</td>\n",
              "      <td>02e821a3e53cb320790950aab4489e85</td>\n",
              "      <td>{'question_concept': 'highway', 'choices': [{'...</td>\n",
              "    </tr>\n",
              "    <tr>\n",
              "      <th>4</th>\n",
              "      <td>C</td>\n",
              "      <td>23505889b94e880c3e89cff4ba119860</td>\n",
              "      <td>{'question_concept': 'fox', 'choices': [{'labe...</td>\n",
              "    </tr>\n",
              "    <tr>\n",
              "      <th>...</th>\n",
              "      <td>...</td>\n",
              "      <td>...</td>\n",
              "      <td>...</td>\n",
              "    </tr>\n",
              "    <tr>\n",
              "      <th>9736</th>\n",
              "      <td>E</td>\n",
              "      <td>f1b2a30a1facff543e055231c5f90dd0</td>\n",
              "      <td>{'question_concept': 'going public', 'choices'...</td>\n",
              "    </tr>\n",
              "    <tr>\n",
              "      <th>9737</th>\n",
              "      <td>D</td>\n",
              "      <td>a63b4d0c0b34d6e5f5ce7b2c2c08b825</td>\n",
              "      <td>{'question_concept': 'chair', 'choices': [{'la...</td>\n",
              "    </tr>\n",
              "    <tr>\n",
              "      <th>9738</th>\n",
              "      <td>A</td>\n",
              "      <td>22d0eea15e10be56024fd00bb0e4f72f</td>\n",
              "      <td>{'question_concept': 'jeans', 'choices': [{'la...</td>\n",
              "    </tr>\n",
              "    <tr>\n",
              "      <th>9739</th>\n",
              "      <td>A</td>\n",
              "      <td>7c55160a4630de9690eb328b57a18dc2</td>\n",
              "      <td>{'question_concept': 'well', 'choices': [{'lab...</td>\n",
              "    </tr>\n",
              "    <tr>\n",
              "      <th>9740</th>\n",
              "      <td>C</td>\n",
              "      <td>dd640927f9920930501fb8dc3efc196b</td>\n",
              "      <td>{'question_concept': 'electricity', 'choices':...</td>\n",
              "    </tr>\n",
              "  </tbody>\n",
              "</table>\n",
              "<p>9741 rows × 3 columns</p>\n",
              "</div>"
            ],
            "text/plain": [
              "     answerKey  ...                                           question\n",
              "0            A  ...  {'question_concept': 'punishing', 'choices': [...\n",
              "1            B  ...  {'question_concept': 'people', 'choices': [{'l...\n",
              "2            A  ...  {'question_concept': 'choker', 'choices': [{'l...\n",
              "3            D  ...  {'question_concept': 'highway', 'choices': [{'...\n",
              "4            C  ...  {'question_concept': 'fox', 'choices': [{'labe...\n",
              "...        ...  ...                                                ...\n",
              "9736         E  ...  {'question_concept': 'going public', 'choices'...\n",
              "9737         D  ...  {'question_concept': 'chair', 'choices': [{'la...\n",
              "9738         A  ...  {'question_concept': 'jeans', 'choices': [{'la...\n",
              "9739         A  ...  {'question_concept': 'well', 'choices': [{'lab...\n",
              "9740         C  ...  {'question_concept': 'electricity', 'choices':...\n",
              "\n",
              "[9741 rows x 3 columns]"
            ]
          },
          "metadata": {
            "tags": []
          },
          "execution_count": 14
        }
      ]
    },
    {
      "cell_type": "code",
      "metadata": {
        "id": "G_sNqJkrG9Bv"
      },
      "source": [
        "df_INNER_JOIN = pd.merge(csqa, test_ids, left_on='id', right_on='ID', how='inner')"
      ],
      "execution_count": null,
      "outputs": []
    },
    {
      "cell_type": "code",
      "metadata": {
        "colab": {
          "base_uri": "https://localhost:8080/",
          "height": 779
        },
        "id": "IEcpc3hEHWvv",
        "outputId": "a4cdc127-162d-490b-dad3-07f9f0692959"
      },
      "source": [
        "df_INNER_JOIN"
      ],
      "execution_count": null,
      "outputs": [
        {
          "output_type": "execute_result",
          "data": {
            "text/html": [
              "<div>\n",
              "<style scoped>\n",
              "    .dataframe tbody tr th:only-of-type {\n",
              "        vertical-align: middle;\n",
              "    }\n",
              "\n",
              "    .dataframe tbody tr th {\n",
              "        vertical-align: top;\n",
              "    }\n",
              "\n",
              "    .dataframe thead th {\n",
              "        text-align: right;\n",
              "    }\n",
              "</style>\n",
              "<table border=\"1\" class=\"dataframe\">\n",
              "  <thead>\n",
              "    <tr style=\"text-align: right;\">\n",
              "      <th></th>\n",
              "      <th>answerKey</th>\n",
              "      <th>id</th>\n",
              "      <th>question</th>\n",
              "      <th>ID</th>\n",
              "    </tr>\n",
              "  </thead>\n",
              "  <tbody>\n",
              "    <tr>\n",
              "      <th>0</th>\n",
              "      <td>C</td>\n",
              "      <td>23505889b94e880c3e89cff4ba119860</td>\n",
              "      <td>{'question_concept': 'fox', 'choices': [{'labe...</td>\n",
              "      <td>23505889b94e880c3e89cff4ba119860</td>\n",
              "    </tr>\n",
              "    <tr>\n",
              "      <th>1</th>\n",
              "      <td>E</td>\n",
              "      <td>09555c056f3cf0b7e0b84d8df4be1db7</td>\n",
              "      <td>{'question_concept': 'drawstring bag', 'choice...</td>\n",
              "      <td>09555c056f3cf0b7e0b84d8df4be1db7</td>\n",
              "    </tr>\n",
              "    <tr>\n",
              "      <th>2</th>\n",
              "      <td>D</td>\n",
              "      <td>df7861813910ae204c3bd0b3c16fe5d9</td>\n",
              "      <td>{'question_concept': 'run errands', 'choices':...</td>\n",
              "      <td>df7861813910ae204c3bd0b3c16fe5d9</td>\n",
              "    </tr>\n",
              "    <tr>\n",
              "      <th>3</th>\n",
              "      <td>D</td>\n",
              "      <td>a261d4eaf8b33c0730d830ebbffbd9f8</td>\n",
              "      <td>{'question_concept': 'camper', 'choices': [{'l...</td>\n",
              "      <td>a261d4eaf8b33c0730d830ebbffbd9f8</td>\n",
              "    </tr>\n",
              "    <tr>\n",
              "      <th>4</th>\n",
              "      <td>C</td>\n",
              "      <td>145f1ccce9aeab854f6514f927f58288</td>\n",
              "      <td>{'question_concept': 'fox', 'choices': [{'labe...</td>\n",
              "      <td>145f1ccce9aeab854f6514f927f58288</td>\n",
              "    </tr>\n",
              "    <tr>\n",
              "      <th>...</th>\n",
              "      <td>...</td>\n",
              "      <td>...</td>\n",
              "      <td>...</td>\n",
              "      <td>...</td>\n",
              "    </tr>\n",
              "    <tr>\n",
              "      <th>1236</th>\n",
              "      <td>E</td>\n",
              "      <td>12e340afa1379f68e8ac3e51cdb91901</td>\n",
              "      <td>{'question_concept': 'dog', 'choices': [{'labe...</td>\n",
              "      <td>12e340afa1379f68e8ac3e51cdb91901</td>\n",
              "    </tr>\n",
              "    <tr>\n",
              "      <th>1237</th>\n",
              "      <td>A</td>\n",
              "      <td>2d7c9561645f41756f13c13f66294dbf</td>\n",
              "      <td>{'question_concept': 'nature', 'choices': [{'l...</td>\n",
              "      <td>2d7c9561645f41756f13c13f66294dbf</td>\n",
              "    </tr>\n",
              "    <tr>\n",
              "      <th>1238</th>\n",
              "      <td>A</td>\n",
              "      <td>3ccd00b58a29f9fbe83b210ea2e675e4</td>\n",
              "      <td>{'question_concept': 'writing', 'choices': [{'...</td>\n",
              "      <td>3ccd00b58a29f9fbe83b210ea2e675e4</td>\n",
              "    </tr>\n",
              "    <tr>\n",
              "      <th>1239</th>\n",
              "      <td>C</td>\n",
              "      <td>47011436a95298809c57ce5f59ebf1d1</td>\n",
              "      <td>{'question_concept': 'attic', 'choices': [{'la...</td>\n",
              "      <td>47011436a95298809c57ce5f59ebf1d1</td>\n",
              "    </tr>\n",
              "    <tr>\n",
              "      <th>1240</th>\n",
              "      <td>C</td>\n",
              "      <td>dd640927f9920930501fb8dc3efc196b</td>\n",
              "      <td>{'question_concept': 'electricity', 'choices':...</td>\n",
              "      <td>dd640927f9920930501fb8dc3efc196b</td>\n",
              "    </tr>\n",
              "  </tbody>\n",
              "</table>\n",
              "<p>1241 rows × 4 columns</p>\n",
              "</div>"
            ],
            "text/plain": [
              "     answerKey  ...                                ID\n",
              "0            C  ...  23505889b94e880c3e89cff4ba119860\n",
              "1            E  ...  09555c056f3cf0b7e0b84d8df4be1db7\n",
              "2            D  ...  df7861813910ae204c3bd0b3c16fe5d9\n",
              "3            D  ...  a261d4eaf8b33c0730d830ebbffbd9f8\n",
              "4            C  ...  145f1ccce9aeab854f6514f927f58288\n",
              "...        ...  ...                               ...\n",
              "1236         E  ...  12e340afa1379f68e8ac3e51cdb91901\n",
              "1237         A  ...  2d7c9561645f41756f13c13f66294dbf\n",
              "1238         A  ...  3ccd00b58a29f9fbe83b210ea2e675e4\n",
              "1239         C  ...  47011436a95298809c57ce5f59ebf1d1\n",
              "1240         C  ...  dd640927f9920930501fb8dc3efc196b\n",
              "\n",
              "[1241 rows x 4 columns]"
            ]
          },
          "metadata": {
            "tags": []
          },
          "execution_count": 16
        }
      ]
    },
    {
      "cell_type": "code",
      "metadata": {
        "id": "ksP5W4e5HXrh"
      },
      "source": [
        "pred_test = pd.read_csv(PRED_PATH,names=['pred_answerKey'],header=None)"
      ],
      "execution_count": null,
      "outputs": []
    },
    {
      "cell_type": "code",
      "metadata": {
        "colab": {
          "base_uri": "https://localhost:8080/",
          "height": 419
        },
        "id": "Doq7Yy5QH3OJ",
        "outputId": "3b9183b9-6b7f-465b-b3a6-2a5fb9c14e27"
      },
      "source": [
        "pred_test"
      ],
      "execution_count": null,
      "outputs": [
        {
          "output_type": "execute_result",
          "data": {
            "text/html": [
              "<div>\n",
              "<style scoped>\n",
              "    .dataframe tbody tr th:only-of-type {\n",
              "        vertical-align: middle;\n",
              "    }\n",
              "\n",
              "    .dataframe tbody tr th {\n",
              "        vertical-align: top;\n",
              "    }\n",
              "\n",
              "    .dataframe thead th {\n",
              "        text-align: right;\n",
              "    }\n",
              "</style>\n",
              "<table border=\"1\" class=\"dataframe\">\n",
              "  <thead>\n",
              "    <tr style=\"text-align: right;\">\n",
              "      <th></th>\n",
              "      <th>pred_answerKey</th>\n",
              "    </tr>\n",
              "  </thead>\n",
              "  <tbody>\n",
              "    <tr>\n",
              "      <th>0</th>\n",
              "      <td>2</td>\n",
              "    </tr>\n",
              "    <tr>\n",
              "      <th>1</th>\n",
              "      <td>4</td>\n",
              "    </tr>\n",
              "    <tr>\n",
              "      <th>2</th>\n",
              "      <td>3</td>\n",
              "    </tr>\n",
              "    <tr>\n",
              "      <th>3</th>\n",
              "      <td>3</td>\n",
              "    </tr>\n",
              "    <tr>\n",
              "      <th>4</th>\n",
              "      <td>2</td>\n",
              "    </tr>\n",
              "    <tr>\n",
              "      <th>...</th>\n",
              "      <td>...</td>\n",
              "    </tr>\n",
              "    <tr>\n",
              "      <th>1236</th>\n",
              "      <td>4</td>\n",
              "    </tr>\n",
              "    <tr>\n",
              "      <th>1237</th>\n",
              "      <td>0</td>\n",
              "    </tr>\n",
              "    <tr>\n",
              "      <th>1238</th>\n",
              "      <td>0</td>\n",
              "    </tr>\n",
              "    <tr>\n",
              "      <th>1239</th>\n",
              "      <td>2</td>\n",
              "    </tr>\n",
              "    <tr>\n",
              "      <th>1240</th>\n",
              "      <td>2</td>\n",
              "    </tr>\n",
              "  </tbody>\n",
              "</table>\n",
              "<p>1241 rows × 1 columns</p>\n",
              "</div>"
            ],
            "text/plain": [
              "      pred_answerKey\n",
              "0                  2\n",
              "1                  4\n",
              "2                  3\n",
              "3                  3\n",
              "4                  2\n",
              "...              ...\n",
              "1236               4\n",
              "1237               0\n",
              "1238               0\n",
              "1239               2\n",
              "1240               2\n",
              "\n",
              "[1241 rows x 1 columns]"
            ]
          },
          "metadata": {
            "tags": []
          },
          "execution_count": 18
        }
      ]
    },
    {
      "cell_type": "code",
      "metadata": {
        "colab": {
          "base_uri": "https://localhost:8080/",
          "height": 419
        },
        "id": "FlB8pHKRH4Z5",
        "outputId": "4a0502ad-fe1a-4299-e8e2-c7ec1e7c6a36"
      },
      "source": [
        "#ABCD형태나 01234형태로 바꿔주기\n",
        "\n",
        "change_value_dict = {0:'A',1:'B',2:'C',3:'D',4:'E'}\n",
        "pred_test_abc = pred_test.replace({'pred_answerKey':change_value_dict})\n",
        "pred_test_abc"
      ],
      "execution_count": null,
      "outputs": [
        {
          "output_type": "execute_result",
          "data": {
            "text/html": [
              "<div>\n",
              "<style scoped>\n",
              "    .dataframe tbody tr th:only-of-type {\n",
              "        vertical-align: middle;\n",
              "    }\n",
              "\n",
              "    .dataframe tbody tr th {\n",
              "        vertical-align: top;\n",
              "    }\n",
              "\n",
              "    .dataframe thead th {\n",
              "        text-align: right;\n",
              "    }\n",
              "</style>\n",
              "<table border=\"1\" class=\"dataframe\">\n",
              "  <thead>\n",
              "    <tr style=\"text-align: right;\">\n",
              "      <th></th>\n",
              "      <th>pred_answerKey</th>\n",
              "    </tr>\n",
              "  </thead>\n",
              "  <tbody>\n",
              "    <tr>\n",
              "      <th>0</th>\n",
              "      <td>C</td>\n",
              "    </tr>\n",
              "    <tr>\n",
              "      <th>1</th>\n",
              "      <td>E</td>\n",
              "    </tr>\n",
              "    <tr>\n",
              "      <th>2</th>\n",
              "      <td>D</td>\n",
              "    </tr>\n",
              "    <tr>\n",
              "      <th>3</th>\n",
              "      <td>D</td>\n",
              "    </tr>\n",
              "    <tr>\n",
              "      <th>4</th>\n",
              "      <td>C</td>\n",
              "    </tr>\n",
              "    <tr>\n",
              "      <th>...</th>\n",
              "      <td>...</td>\n",
              "    </tr>\n",
              "    <tr>\n",
              "      <th>1236</th>\n",
              "      <td>E</td>\n",
              "    </tr>\n",
              "    <tr>\n",
              "      <th>1237</th>\n",
              "      <td>A</td>\n",
              "    </tr>\n",
              "    <tr>\n",
              "      <th>1238</th>\n",
              "      <td>A</td>\n",
              "    </tr>\n",
              "    <tr>\n",
              "      <th>1239</th>\n",
              "      <td>C</td>\n",
              "    </tr>\n",
              "    <tr>\n",
              "      <th>1240</th>\n",
              "      <td>C</td>\n",
              "    </tr>\n",
              "  </tbody>\n",
              "</table>\n",
              "<p>1241 rows × 1 columns</p>\n",
              "</div>"
            ],
            "text/plain": [
              "     pred_answerKey\n",
              "0                 C\n",
              "1                 E\n",
              "2                 D\n",
              "3                 D\n",
              "4                 C\n",
              "...             ...\n",
              "1236              E\n",
              "1237              A\n",
              "1238              A\n",
              "1239              C\n",
              "1240              C\n",
              "\n",
              "[1241 rows x 1 columns]"
            ]
          },
          "metadata": {
            "tags": []
          },
          "execution_count": 19
        }
      ]
    },
    {
      "cell_type": "code",
      "metadata": {
        "colab": {
          "base_uri": "https://localhost:8080/",
          "height": 779
        },
        "id": "YQ-kZ0tgIorT",
        "outputId": "e8336d05-47d4-463c-bcb2-bd0b3afa1d22"
      },
      "source": [
        "csqa_final = pd.concat([df_INNER_JOIN,pred_test_abc],axis=1)\n",
        "csqa_final"
      ],
      "execution_count": null,
      "outputs": [
        {
          "output_type": "execute_result",
          "data": {
            "text/html": [
              "<div>\n",
              "<style scoped>\n",
              "    .dataframe tbody tr th:only-of-type {\n",
              "        vertical-align: middle;\n",
              "    }\n",
              "\n",
              "    .dataframe tbody tr th {\n",
              "        vertical-align: top;\n",
              "    }\n",
              "\n",
              "    .dataframe thead th {\n",
              "        text-align: right;\n",
              "    }\n",
              "</style>\n",
              "<table border=\"1\" class=\"dataframe\">\n",
              "  <thead>\n",
              "    <tr style=\"text-align: right;\">\n",
              "      <th></th>\n",
              "      <th>answerKey</th>\n",
              "      <th>id</th>\n",
              "      <th>question</th>\n",
              "      <th>ID</th>\n",
              "      <th>pred_answerKey</th>\n",
              "    </tr>\n",
              "  </thead>\n",
              "  <tbody>\n",
              "    <tr>\n",
              "      <th>0</th>\n",
              "      <td>C</td>\n",
              "      <td>23505889b94e880c3e89cff4ba119860</td>\n",
              "      <td>{'question_concept': 'fox', 'choices': [{'labe...</td>\n",
              "      <td>23505889b94e880c3e89cff4ba119860</td>\n",
              "      <td>C</td>\n",
              "    </tr>\n",
              "    <tr>\n",
              "      <th>1</th>\n",
              "      <td>E</td>\n",
              "      <td>09555c056f3cf0b7e0b84d8df4be1db7</td>\n",
              "      <td>{'question_concept': 'drawstring bag', 'choice...</td>\n",
              "      <td>09555c056f3cf0b7e0b84d8df4be1db7</td>\n",
              "      <td>E</td>\n",
              "    </tr>\n",
              "    <tr>\n",
              "      <th>2</th>\n",
              "      <td>D</td>\n",
              "      <td>df7861813910ae204c3bd0b3c16fe5d9</td>\n",
              "      <td>{'question_concept': 'run errands', 'choices':...</td>\n",
              "      <td>df7861813910ae204c3bd0b3c16fe5d9</td>\n",
              "      <td>D</td>\n",
              "    </tr>\n",
              "    <tr>\n",
              "      <th>3</th>\n",
              "      <td>D</td>\n",
              "      <td>a261d4eaf8b33c0730d830ebbffbd9f8</td>\n",
              "      <td>{'question_concept': 'camper', 'choices': [{'l...</td>\n",
              "      <td>a261d4eaf8b33c0730d830ebbffbd9f8</td>\n",
              "      <td>D</td>\n",
              "    </tr>\n",
              "    <tr>\n",
              "      <th>4</th>\n",
              "      <td>C</td>\n",
              "      <td>145f1ccce9aeab854f6514f927f58288</td>\n",
              "      <td>{'question_concept': 'fox', 'choices': [{'labe...</td>\n",
              "      <td>145f1ccce9aeab854f6514f927f58288</td>\n",
              "      <td>C</td>\n",
              "    </tr>\n",
              "    <tr>\n",
              "      <th>...</th>\n",
              "      <td>...</td>\n",
              "      <td>...</td>\n",
              "      <td>...</td>\n",
              "      <td>...</td>\n",
              "      <td>...</td>\n",
              "    </tr>\n",
              "    <tr>\n",
              "      <th>1236</th>\n",
              "      <td>E</td>\n",
              "      <td>12e340afa1379f68e8ac3e51cdb91901</td>\n",
              "      <td>{'question_concept': 'dog', 'choices': [{'labe...</td>\n",
              "      <td>12e340afa1379f68e8ac3e51cdb91901</td>\n",
              "      <td>E</td>\n",
              "    </tr>\n",
              "    <tr>\n",
              "      <th>1237</th>\n",
              "      <td>A</td>\n",
              "      <td>2d7c9561645f41756f13c13f66294dbf</td>\n",
              "      <td>{'question_concept': 'nature', 'choices': [{'l...</td>\n",
              "      <td>2d7c9561645f41756f13c13f66294dbf</td>\n",
              "      <td>A</td>\n",
              "    </tr>\n",
              "    <tr>\n",
              "      <th>1238</th>\n",
              "      <td>A</td>\n",
              "      <td>3ccd00b58a29f9fbe83b210ea2e675e4</td>\n",
              "      <td>{'question_concept': 'writing', 'choices': [{'...</td>\n",
              "      <td>3ccd00b58a29f9fbe83b210ea2e675e4</td>\n",
              "      <td>A</td>\n",
              "    </tr>\n",
              "    <tr>\n",
              "      <th>1239</th>\n",
              "      <td>C</td>\n",
              "      <td>47011436a95298809c57ce5f59ebf1d1</td>\n",
              "      <td>{'question_concept': 'attic', 'choices': [{'la...</td>\n",
              "      <td>47011436a95298809c57ce5f59ebf1d1</td>\n",
              "      <td>C</td>\n",
              "    </tr>\n",
              "    <tr>\n",
              "      <th>1240</th>\n",
              "      <td>C</td>\n",
              "      <td>dd640927f9920930501fb8dc3efc196b</td>\n",
              "      <td>{'question_concept': 'electricity', 'choices':...</td>\n",
              "      <td>dd640927f9920930501fb8dc3efc196b</td>\n",
              "      <td>C</td>\n",
              "    </tr>\n",
              "  </tbody>\n",
              "</table>\n",
              "<p>1241 rows × 5 columns</p>\n",
              "</div>"
            ],
            "text/plain": [
              "     answerKey  ... pred_answerKey\n",
              "0            C  ...              C\n",
              "1            E  ...              E\n",
              "2            D  ...              D\n",
              "3            D  ...              D\n",
              "4            C  ...              C\n",
              "...        ...  ...            ...\n",
              "1236         E  ...              E\n",
              "1237         A  ...              A\n",
              "1238         A  ...              A\n",
              "1239         C  ...              C\n",
              "1240         C  ...              C\n",
              "\n",
              "[1241 rows x 5 columns]"
            ]
          },
          "metadata": {
            "tags": []
          },
          "execution_count": 20
        }
      ]
    },
    {
      "cell_type": "code",
      "metadata": {
        "id": "6s4mCliOJbFh"
      },
      "source": [
        "csqa_final['correct']=np.where(csqa_final['answerKey']==csqa_final['pred_answerKey'],1,0)"
      ],
      "execution_count": null,
      "outputs": []
    },
    {
      "cell_type": "code",
      "metadata": {
        "colab": {
          "base_uri": "https://localhost:8080/",
          "height": 779
        },
        "id": "a-OkpJEsKdge",
        "outputId": "cb3092ec-1b16-4710-c3f4-f28b153ddcce"
      },
      "source": [
        "csqa_final"
      ],
      "execution_count": null,
      "outputs": [
        {
          "output_type": "execute_result",
          "data": {
            "text/html": [
              "<div>\n",
              "<style scoped>\n",
              "    .dataframe tbody tr th:only-of-type {\n",
              "        vertical-align: middle;\n",
              "    }\n",
              "\n",
              "    .dataframe tbody tr th {\n",
              "        vertical-align: top;\n",
              "    }\n",
              "\n",
              "    .dataframe thead th {\n",
              "        text-align: right;\n",
              "    }\n",
              "</style>\n",
              "<table border=\"1\" class=\"dataframe\">\n",
              "  <thead>\n",
              "    <tr style=\"text-align: right;\">\n",
              "      <th></th>\n",
              "      <th>answerKey</th>\n",
              "      <th>id</th>\n",
              "      <th>question</th>\n",
              "      <th>ID</th>\n",
              "      <th>pred_answerKey</th>\n",
              "      <th>correct</th>\n",
              "    </tr>\n",
              "  </thead>\n",
              "  <tbody>\n",
              "    <tr>\n",
              "      <th>0</th>\n",
              "      <td>C</td>\n",
              "      <td>23505889b94e880c3e89cff4ba119860</td>\n",
              "      <td>{'question_concept': 'fox', 'choices': [{'labe...</td>\n",
              "      <td>23505889b94e880c3e89cff4ba119860</td>\n",
              "      <td>C</td>\n",
              "      <td>1</td>\n",
              "    </tr>\n",
              "    <tr>\n",
              "      <th>1</th>\n",
              "      <td>E</td>\n",
              "      <td>09555c056f3cf0b7e0b84d8df4be1db7</td>\n",
              "      <td>{'question_concept': 'drawstring bag', 'choice...</td>\n",
              "      <td>09555c056f3cf0b7e0b84d8df4be1db7</td>\n",
              "      <td>E</td>\n",
              "      <td>1</td>\n",
              "    </tr>\n",
              "    <tr>\n",
              "      <th>2</th>\n",
              "      <td>D</td>\n",
              "      <td>df7861813910ae204c3bd0b3c16fe5d9</td>\n",
              "      <td>{'question_concept': 'run errands', 'choices':...</td>\n",
              "      <td>df7861813910ae204c3bd0b3c16fe5d9</td>\n",
              "      <td>D</td>\n",
              "      <td>1</td>\n",
              "    </tr>\n",
              "    <tr>\n",
              "      <th>3</th>\n",
              "      <td>D</td>\n",
              "      <td>a261d4eaf8b33c0730d830ebbffbd9f8</td>\n",
              "      <td>{'question_concept': 'camper', 'choices': [{'l...</td>\n",
              "      <td>a261d4eaf8b33c0730d830ebbffbd9f8</td>\n",
              "      <td>D</td>\n",
              "      <td>1</td>\n",
              "    </tr>\n",
              "    <tr>\n",
              "      <th>4</th>\n",
              "      <td>C</td>\n",
              "      <td>145f1ccce9aeab854f6514f927f58288</td>\n",
              "      <td>{'question_concept': 'fox', 'choices': [{'labe...</td>\n",
              "      <td>145f1ccce9aeab854f6514f927f58288</td>\n",
              "      <td>C</td>\n",
              "      <td>1</td>\n",
              "    </tr>\n",
              "    <tr>\n",
              "      <th>...</th>\n",
              "      <td>...</td>\n",
              "      <td>...</td>\n",
              "      <td>...</td>\n",
              "      <td>...</td>\n",
              "      <td>...</td>\n",
              "      <td>...</td>\n",
              "    </tr>\n",
              "    <tr>\n",
              "      <th>1236</th>\n",
              "      <td>E</td>\n",
              "      <td>12e340afa1379f68e8ac3e51cdb91901</td>\n",
              "      <td>{'question_concept': 'dog', 'choices': [{'labe...</td>\n",
              "      <td>12e340afa1379f68e8ac3e51cdb91901</td>\n",
              "      <td>E</td>\n",
              "      <td>1</td>\n",
              "    </tr>\n",
              "    <tr>\n",
              "      <th>1237</th>\n",
              "      <td>A</td>\n",
              "      <td>2d7c9561645f41756f13c13f66294dbf</td>\n",
              "      <td>{'question_concept': 'nature', 'choices': [{'l...</td>\n",
              "      <td>2d7c9561645f41756f13c13f66294dbf</td>\n",
              "      <td>A</td>\n",
              "      <td>1</td>\n",
              "    </tr>\n",
              "    <tr>\n",
              "      <th>1238</th>\n",
              "      <td>A</td>\n",
              "      <td>3ccd00b58a29f9fbe83b210ea2e675e4</td>\n",
              "      <td>{'question_concept': 'writing', 'choices': [{'...</td>\n",
              "      <td>3ccd00b58a29f9fbe83b210ea2e675e4</td>\n",
              "      <td>A</td>\n",
              "      <td>1</td>\n",
              "    </tr>\n",
              "    <tr>\n",
              "      <th>1239</th>\n",
              "      <td>C</td>\n",
              "      <td>47011436a95298809c57ce5f59ebf1d1</td>\n",
              "      <td>{'question_concept': 'attic', 'choices': [{'la...</td>\n",
              "      <td>47011436a95298809c57ce5f59ebf1d1</td>\n",
              "      <td>C</td>\n",
              "      <td>1</td>\n",
              "    </tr>\n",
              "    <tr>\n",
              "      <th>1240</th>\n",
              "      <td>C</td>\n",
              "      <td>dd640927f9920930501fb8dc3efc196b</td>\n",
              "      <td>{'question_concept': 'electricity', 'choices':...</td>\n",
              "      <td>dd640927f9920930501fb8dc3efc196b</td>\n",
              "      <td>C</td>\n",
              "      <td>1</td>\n",
              "    </tr>\n",
              "  </tbody>\n",
              "</table>\n",
              "<p>1241 rows × 6 columns</p>\n",
              "</div>"
            ],
            "text/plain": [
              "     answerKey                                id  ... pred_answerKey correct\n",
              "0            C  23505889b94e880c3e89cff4ba119860  ...              C       1\n",
              "1            E  09555c056f3cf0b7e0b84d8df4be1db7  ...              E       1\n",
              "2            D  df7861813910ae204c3bd0b3c16fe5d9  ...              D       1\n",
              "3            D  a261d4eaf8b33c0730d830ebbffbd9f8  ...              D       1\n",
              "4            C  145f1ccce9aeab854f6514f927f58288  ...              C       1\n",
              "...        ...                               ...  ...            ...     ...\n",
              "1236         E  12e340afa1379f68e8ac3e51cdb91901  ...              E       1\n",
              "1237         A  2d7c9561645f41756f13c13f66294dbf  ...              A       1\n",
              "1238         A  3ccd00b58a29f9fbe83b210ea2e675e4  ...              A       1\n",
              "1239         C  47011436a95298809c57ce5f59ebf1d1  ...              C       1\n",
              "1240         C  dd640927f9920930501fb8dc3efc196b  ...              C       1\n",
              "\n",
              "[1241 rows x 6 columns]"
            ]
          },
          "metadata": {
            "tags": []
          },
          "execution_count": 22
        }
      ]
    },
    {
      "cell_type": "code",
      "metadata": {
        "colab": {
          "base_uri": "https://localhost:8080/"
        },
        "id": "3B6zeR4GKem1",
        "outputId": "fbeebc8b-5bb2-4913-b21b-1a6e594955e7"
      },
      "source": [
        "#1241개 중 901개 정답\n",
        "correct_num = csqa_final['correct'].sum()\n",
        "correct_num"
      ],
      "execution_count": null,
      "outputs": [
        {
          "output_type": "execute_result",
          "data": {
            "text/plain": [
              "901"
            ]
          },
          "metadata": {
            "tags": []
          },
          "execution_count": 24
        }
      ]
    },
    {
      "cell_type": "code",
      "metadata": {
        "colab": {
          "base_uri": "https://localhost:8080/"
        },
        "id": "9pGk_NFmADTw",
        "outputId": "25c24fef-3606-4146-cc1e-80a085b2445d"
      },
      "source": [
        "#score\n",
        "score = correct_num / len(csqa_final) * 100\n",
        "score"
      ],
      "execution_count": null,
      "outputs": [
        {
          "output_type": "execute_result",
          "data": {
            "text/plain": [
              "72.6027397260274"
            ]
          },
          "metadata": {
            "tags": []
          },
          "execution_count": 26
        }
      ]
    },
    {
      "cell_type": "code",
      "metadata": {
        "colab": {
          "base_uri": "https://localhost:8080/"
        },
        "id": "KahEv43MKs3O",
        "outputId": "b37d9143-f5b2-4c92-d1f1-cfdf64501c91"
      },
      "source": [
        "# 1241개 중 340개 오답\n",
        "wrong_qa = csqa_final[csqa_final['correct']==0]\n",
        "wrong_qa_ids = wrong_qa['id']\n",
        "len(wrong_qa_ids)"
      ],
      "execution_count": null,
      "outputs": [
        {
          "output_type": "execute_result",
          "data": {
            "text/plain": [
              "340"
            ]
          },
          "metadata": {
            "tags": []
          },
          "execution_count": 36
        }
      ]
    },
    {
      "cell_type": "code",
      "metadata": {
        "id": "cQ0XsG_tLvdm"
      },
      "source": [
        "#txt 파일로 추출함!\n",
        "wrong_qa_ids.to_csv('pred_wrong_ids.txt',sep='\\n',index=False,header=False)"
      ],
      "execution_count": null,
      "outputs": []
    },
    {
      "cell_type": "code",
      "metadata": {
        "id": "8bFSCNSnLw6T"
      },
      "source": [
        ""
      ],
      "execution_count": null,
      "outputs": []
    }
  ]
}